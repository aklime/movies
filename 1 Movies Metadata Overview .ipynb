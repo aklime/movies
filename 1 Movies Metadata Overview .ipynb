{
 "cells": [
  {
   "cell_type": "code",
   "execution_count": 1,
   "metadata": {},
   "outputs": [],
   "source": [
    "import pandas as pd\n",
    "import datetime as dt\n",
    "import seaborn as sns\n",
    "import matplotlib.pyplot as plt\n",
    "import math\n",
    "import warnings\n",
    "warnings.filterwarnings('ignore')\n",
    "%matplotlib inline"
   ]
  },
  {
   "cell_type": "code",
   "execution_count": 2,
   "metadata": {},
   "outputs": [],
   "source": [
    "mmt = pd.read_csv('data/the-movies-dataset/movies_metadata.csv')"
   ]
  },
  {
   "cell_type": "code",
   "execution_count": 4,
   "metadata": {},
   "outputs": [
    {
     "data": {
      "text/html": [
       "<div>\n",
       "<style scoped>\n",
       "    .dataframe tbody tr th:only-of-type {\n",
       "        vertical-align: middle;\n",
       "    }\n",
       "\n",
       "    .dataframe tbody tr th {\n",
       "        vertical-align: top;\n",
       "    }\n",
       "\n",
       "    .dataframe thead th {\n",
       "        text-align: right;\n",
       "    }\n",
       "</style>\n",
       "<table border=\"1\" class=\"dataframe\">\n",
       "  <thead>\n",
       "    <tr style=\"text-align: right;\">\n",
       "      <th></th>\n",
       "      <th>adult</th>\n",
       "      <th>belongs_to_collection</th>\n",
       "      <th>budget</th>\n",
       "      <th>genres</th>\n",
       "      <th>homepage</th>\n",
       "      <th>id</th>\n",
       "      <th>imdb_id</th>\n",
       "      <th>original_language</th>\n",
       "      <th>original_title</th>\n",
       "      <th>overview</th>\n",
       "      <th>...</th>\n",
       "      <th>release_date</th>\n",
       "      <th>revenue</th>\n",
       "      <th>runtime</th>\n",
       "      <th>spoken_languages</th>\n",
       "      <th>status</th>\n",
       "      <th>tagline</th>\n",
       "      <th>title</th>\n",
       "      <th>video</th>\n",
       "      <th>vote_average</th>\n",
       "      <th>vote_count</th>\n",
       "    </tr>\n",
       "  </thead>\n",
       "  <tbody>\n",
       "    <tr>\n",
       "      <th>0</th>\n",
       "      <td>False</td>\n",
       "      <td>{'id': 10194, 'name': 'Toy Story Collection', ...</td>\n",
       "      <td>30000000</td>\n",
       "      <td>[{'id': 16, 'name': 'Animation'}, {'id': 35, '...</td>\n",
       "      <td>http://toystory.disney.com/toy-story</td>\n",
       "      <td>862</td>\n",
       "      <td>tt0114709</td>\n",
       "      <td>en</td>\n",
       "      <td>Toy Story</td>\n",
       "      <td>Led by Woody, Andy's toys live happily in his ...</td>\n",
       "      <td>...</td>\n",
       "      <td>1995-10-30</td>\n",
       "      <td>373554033</td>\n",
       "      <td>81.0</td>\n",
       "      <td>[{'iso_639_1': 'en', 'name': 'English'}]</td>\n",
       "      <td>Released</td>\n",
       "      <td>NaN</td>\n",
       "      <td>Toy Story</td>\n",
       "      <td>False</td>\n",
       "      <td>7.7</td>\n",
       "      <td>5415</td>\n",
       "    </tr>\n",
       "    <tr>\n",
       "      <th>1</th>\n",
       "      <td>False</td>\n",
       "      <td>NaN</td>\n",
       "      <td>65000000</td>\n",
       "      <td>[{'id': 12, 'name': 'Adventure'}, {'id': 14, '...</td>\n",
       "      <td>NaN</td>\n",
       "      <td>8844</td>\n",
       "      <td>tt0113497</td>\n",
       "      <td>en</td>\n",
       "      <td>Jumanji</td>\n",
       "      <td>When siblings Judy and Peter discover an encha...</td>\n",
       "      <td>...</td>\n",
       "      <td>1995-12-15</td>\n",
       "      <td>262797249</td>\n",
       "      <td>104.0</td>\n",
       "      <td>[{'iso_639_1': 'en', 'name': 'English'}, {'iso...</td>\n",
       "      <td>Released</td>\n",
       "      <td>Roll the dice and unleash the excitement!</td>\n",
       "      <td>Jumanji</td>\n",
       "      <td>False</td>\n",
       "      <td>6.9</td>\n",
       "      <td>2413</td>\n",
       "    </tr>\n",
       "    <tr>\n",
       "      <th>2</th>\n",
       "      <td>False</td>\n",
       "      <td>{'id': 119050, 'name': 'Grumpy Old Men Collect...</td>\n",
       "      <td>0</td>\n",
       "      <td>[{'id': 10749, 'name': 'Romance'}, {'id': 35, ...</td>\n",
       "      <td>NaN</td>\n",
       "      <td>15602</td>\n",
       "      <td>tt0113228</td>\n",
       "      <td>en</td>\n",
       "      <td>Grumpier Old Men</td>\n",
       "      <td>A family wedding reignites the ancient feud be...</td>\n",
       "      <td>...</td>\n",
       "      <td>1995-12-22</td>\n",
       "      <td>0</td>\n",
       "      <td>101.0</td>\n",
       "      <td>[{'iso_639_1': 'en', 'name': 'English'}]</td>\n",
       "      <td>Released</td>\n",
       "      <td>Still Yelling. Still Fighting. Still Ready for...</td>\n",
       "      <td>Grumpier Old Men</td>\n",
       "      <td>False</td>\n",
       "      <td>6.5</td>\n",
       "      <td>92</td>\n",
       "    </tr>\n",
       "    <tr>\n",
       "      <th>3</th>\n",
       "      <td>False</td>\n",
       "      <td>NaN</td>\n",
       "      <td>16000000</td>\n",
       "      <td>[{'id': 35, 'name': 'Comedy'}, {'id': 18, 'nam...</td>\n",
       "      <td>NaN</td>\n",
       "      <td>31357</td>\n",
       "      <td>tt0114885</td>\n",
       "      <td>en</td>\n",
       "      <td>Waiting to Exhale</td>\n",
       "      <td>Cheated on, mistreated and stepped on, the wom...</td>\n",
       "      <td>...</td>\n",
       "      <td>1995-12-22</td>\n",
       "      <td>81452156</td>\n",
       "      <td>127.0</td>\n",
       "      <td>[{'iso_639_1': 'en', 'name': 'English'}]</td>\n",
       "      <td>Released</td>\n",
       "      <td>Friends are the people who let you be yourself...</td>\n",
       "      <td>Waiting to Exhale</td>\n",
       "      <td>False</td>\n",
       "      <td>6.1</td>\n",
       "      <td>34</td>\n",
       "    </tr>\n",
       "    <tr>\n",
       "      <th>4</th>\n",
       "      <td>False</td>\n",
       "      <td>{'id': 96871, 'name': 'Father of the Bride Col...</td>\n",
       "      <td>0</td>\n",
       "      <td>[{'id': 35, 'name': 'Comedy'}]</td>\n",
       "      <td>NaN</td>\n",
       "      <td>11862</td>\n",
       "      <td>tt0113041</td>\n",
       "      <td>en</td>\n",
       "      <td>Father of the Bride Part II</td>\n",
       "      <td>Just when George Banks has recovered from his ...</td>\n",
       "      <td>...</td>\n",
       "      <td>1995-02-10</td>\n",
       "      <td>76578911</td>\n",
       "      <td>106.0</td>\n",
       "      <td>[{'iso_639_1': 'en', 'name': 'English'}]</td>\n",
       "      <td>Released</td>\n",
       "      <td>Just When His World Is Back To Normal... He's ...</td>\n",
       "      <td>Father of the Bride Part II</td>\n",
       "      <td>False</td>\n",
       "      <td>5.7</td>\n",
       "      <td>173</td>\n",
       "    </tr>\n",
       "  </tbody>\n",
       "</table>\n",
       "<p>5 rows × 24 columns</p>\n",
       "</div>"
      ],
      "text/plain": [
       "   adult                              belongs_to_collection    budget  \\\n",
       "0  False  {'id': 10194, 'name': 'Toy Story Collection', ...  30000000   \n",
       "1  False                                                NaN  65000000   \n",
       "2  False  {'id': 119050, 'name': 'Grumpy Old Men Collect...         0   \n",
       "3  False                                                NaN  16000000   \n",
       "4  False  {'id': 96871, 'name': 'Father of the Bride Col...         0   \n",
       "\n",
       "                                              genres  \\\n",
       "0  [{'id': 16, 'name': 'Animation'}, {'id': 35, '...   \n",
       "1  [{'id': 12, 'name': 'Adventure'}, {'id': 14, '...   \n",
       "2  [{'id': 10749, 'name': 'Romance'}, {'id': 35, ...   \n",
       "3  [{'id': 35, 'name': 'Comedy'}, {'id': 18, 'nam...   \n",
       "4                     [{'id': 35, 'name': 'Comedy'}]   \n",
       "\n",
       "                               homepage     id    imdb_id original_language  \\\n",
       "0  http://toystory.disney.com/toy-story    862  tt0114709                en   \n",
       "1                                   NaN   8844  tt0113497                en   \n",
       "2                                   NaN  15602  tt0113228                en   \n",
       "3                                   NaN  31357  tt0114885                en   \n",
       "4                                   NaN  11862  tt0113041                en   \n",
       "\n",
       "                original_title  \\\n",
       "0                    Toy Story   \n",
       "1                      Jumanji   \n",
       "2             Grumpier Old Men   \n",
       "3            Waiting to Exhale   \n",
       "4  Father of the Bride Part II   \n",
       "\n",
       "                                            overview    ...      release_date  \\\n",
       "0  Led by Woody, Andy's toys live happily in his ...    ...        1995-10-30   \n",
       "1  When siblings Judy and Peter discover an encha...    ...        1995-12-15   \n",
       "2  A family wedding reignites the ancient feud be...    ...        1995-12-22   \n",
       "3  Cheated on, mistreated and stepped on, the wom...    ...        1995-12-22   \n",
       "4  Just when George Banks has recovered from his ...    ...        1995-02-10   \n",
       "\n",
       "     revenue runtime                                   spoken_languages  \\\n",
       "0  373554033    81.0           [{'iso_639_1': 'en', 'name': 'English'}]   \n",
       "1  262797249   104.0  [{'iso_639_1': 'en', 'name': 'English'}, {'iso...   \n",
       "2          0   101.0           [{'iso_639_1': 'en', 'name': 'English'}]   \n",
       "3   81452156   127.0           [{'iso_639_1': 'en', 'name': 'English'}]   \n",
       "4   76578911   106.0           [{'iso_639_1': 'en', 'name': 'English'}]   \n",
       "\n",
       "     status                                            tagline  \\\n",
       "0  Released                                                NaN   \n",
       "1  Released          Roll the dice and unleash the excitement!   \n",
       "2  Released  Still Yelling. Still Fighting. Still Ready for...   \n",
       "3  Released  Friends are the people who let you be yourself...   \n",
       "4  Released  Just When His World Is Back To Normal... He's ...   \n",
       "\n",
       "                         title  video vote_average vote_count  \n",
       "0                    Toy Story  False          7.7       5415  \n",
       "1                      Jumanji  False          6.9       2413  \n",
       "2             Grumpier Old Men  False          6.5         92  \n",
       "3            Waiting to Exhale  False          6.1         34  \n",
       "4  Father of the Bride Part II  False          5.7        173  \n",
       "\n",
       "[5 rows x 24 columns]"
      ]
     },
     "execution_count": 4,
     "metadata": {},
     "output_type": "execute_result"
    }
   ],
   "source": [
    "mmt.head()"
   ]
  },
  {
   "cell_type": "code",
   "execution_count": 6,
   "metadata": {},
   "outputs": [
    {
     "data": {
      "text/html": [
       "<div>\n",
       "<style scoped>\n",
       "    .dataframe tbody tr th:only-of-type {\n",
       "        vertical-align: middle;\n",
       "    }\n",
       "\n",
       "    .dataframe tbody tr th {\n",
       "        vertical-align: top;\n",
       "    }\n",
       "\n",
       "    .dataframe thead th {\n",
       "        text-align: right;\n",
       "    }\n",
       "</style>\n",
       "<table border=\"1\" class=\"dataframe\">\n",
       "  <thead>\n",
       "    <tr style=\"text-align: right;\">\n",
       "      <th></th>\n",
       "      <th>adult</th>\n",
       "      <th>belongs_to_collection</th>\n",
       "      <th>budget</th>\n",
       "      <th>genres</th>\n",
       "      <th>homepage</th>\n",
       "      <th>id</th>\n",
       "      <th>imdb_id</th>\n",
       "      <th>original_language</th>\n",
       "      <th>original_title</th>\n",
       "      <th>overview</th>\n",
       "      <th>...</th>\n",
       "      <th>release_date</th>\n",
       "      <th>revenue</th>\n",
       "      <th>runtime</th>\n",
       "      <th>spoken_languages</th>\n",
       "      <th>status</th>\n",
       "      <th>tagline</th>\n",
       "      <th>title</th>\n",
       "      <th>video</th>\n",
       "      <th>vote_average</th>\n",
       "      <th>vote_count</th>\n",
       "    </tr>\n",
       "  </thead>\n",
       "  <tbody>\n",
       "    <tr>\n",
       "      <th>5492</th>\n",
       "      <td>False</td>\n",
       "      <td>NaN</td>\n",
       "      <td>0</td>\n",
       "      <td>[{'id': 28, 'name': 'Action'}, {'id': 12, 'nam...</td>\n",
       "      <td>NaN</td>\n",
       "      <td>15173</td>\n",
       "      <td>tt0298388</td>\n",
       "      <td>en</td>\n",
       "      <td>Jonah: A VeggieTales Movie</td>\n",
       "      <td>Get ready as Bob the Tomato, Larry the Cucumbe...</td>\n",
       "      <td>...</td>\n",
       "      <td>2002-10-04</td>\n",
       "      <td>0</td>\n",
       "      <td>82.0</td>\n",
       "      <td>[{'iso_639_1': 'cs', 'name': 'Český'}, {'iso_6...</td>\n",
       "      <td>Released</td>\n",
       "      <td>Fresh Fish. Mixed Vegetables.</td>\n",
       "      <td>Jonah: A VeggieTales Movie</td>\n",
       "      <td>True</td>\n",
       "      <td>6.4</td>\n",
       "      <td>22</td>\n",
       "    </tr>\n",
       "    <tr>\n",
       "      <th>11469</th>\n",
       "      <td>False</td>\n",
       "      <td>{'id': 123438, 'name': 'Loose Change Collectio...</td>\n",
       "      <td>5000</td>\n",
       "      <td>[{'id': 99, 'name': 'Documentary'}]</td>\n",
       "      <td>http://www.loosechange911.com/</td>\n",
       "      <td>14277</td>\n",
       "      <td>tt0831315</td>\n",
       "      <td>en</td>\n",
       "      <td>Loose Change: 2nd Edition</td>\n",
       "      <td>What if...September 11th was not a surprise at...</td>\n",
       "      <td>...</td>\n",
       "      <td>2006-06-01</td>\n",
       "      <td>0</td>\n",
       "      <td>100.0</td>\n",
       "      <td>[{'iso_639_1': 'en', 'name': 'English'}]</td>\n",
       "      <td>Released</td>\n",
       "      <td>What really happened on 9/11?</td>\n",
       "      <td>Loose Change: 2nd Edition</td>\n",
       "      <td>True</td>\n",
       "      <td>6.3</td>\n",
       "      <td>16</td>\n",
       "    </tr>\n",
       "    <tr>\n",
       "      <th>13564</th>\n",
       "      <td>False</td>\n",
       "      <td>NaN</td>\n",
       "      <td>0</td>\n",
       "      <td>[{'id': 99, 'name': 'Documentary'}]</td>\n",
       "      <td>NaN</td>\n",
       "      <td>284117</td>\n",
       "      <td>tt1198399</td>\n",
       "      <td>en</td>\n",
       "      <td>Fitna</td>\n",
       "      <td>A short film in which Quran verses are shown a...</td>\n",
       "      <td>...</td>\n",
       "      <td>2008-03-27</td>\n",
       "      <td>0</td>\n",
       "      <td>15.0</td>\n",
       "      <td>[{'iso_639_1': 'en', 'name': 'English'}, {'iso...</td>\n",
       "      <td>Released</td>\n",
       "      <td>NaN</td>\n",
       "      <td>Fitna</td>\n",
       "      <td>True</td>\n",
       "      <td>1.0</td>\n",
       "      <td>1</td>\n",
       "    </tr>\n",
       "    <tr>\n",
       "      <th>14271</th>\n",
       "      <td>False</td>\n",
       "      <td>{'id': 190135, 'name': 'Love Hina Collection',...</td>\n",
       "      <td>0</td>\n",
       "      <td>[{'id': 35, 'name': 'Comedy'}, {'id': 10749, '...</td>\n",
       "      <td>NaN</td>\n",
       "      <td>44685</td>\n",
       "      <td>tt0416938</td>\n",
       "      <td>ja</td>\n",
       "      <td>ラブひな 春スペシャル ～キミサクラチルナカレ!!～</td>\n",
       "      <td>The tests have come, and Keitaro can only hope...</td>\n",
       "      <td>...</td>\n",
       "      <td>2001-03-31</td>\n",
       "      <td>0</td>\n",
       "      <td>48.0</td>\n",
       "      <td>[{'iso_639_1': 'ja', 'name': '日本語'}]</td>\n",
       "      <td>Released</td>\n",
       "      <td>Spring break... Love Hina Style!!</td>\n",
       "      <td>Love Hina Spring Special - I Wish Your Dream</td>\n",
       "      <td>True</td>\n",
       "      <td>4.7</td>\n",
       "      <td>3</td>\n",
       "    </tr>\n",
       "    <tr>\n",
       "      <th>14608</th>\n",
       "      <td>False</td>\n",
       "      <td>NaN</td>\n",
       "      <td>0</td>\n",
       "      <td>[{'id': 28, 'name': 'Action'}, {'id': 12, 'nam...</td>\n",
       "      <td>http://www.sonypictures.com/familyzone/playmobil/</td>\n",
       "      <td>35148</td>\n",
       "      <td>tt1512792</td>\n",
       "      <td>en</td>\n",
       "      <td>Playmobil: The Secret of Pirate Island</td>\n",
       "      <td>Ahoy, matey! Your Favorite Playmobil toys have...</td>\n",
       "      <td>...</td>\n",
       "      <td>2009-10-13</td>\n",
       "      <td>0</td>\n",
       "      <td>140.0</td>\n",
       "      <td>[{'iso_639_1': 'fr', 'name': 'Français'}, {'is...</td>\n",
       "      <td>Released</td>\n",
       "      <td>NaN</td>\n",
       "      <td>Playmobil: The Secret of Pirate Island</td>\n",
       "      <td>True</td>\n",
       "      <td>0.0</td>\n",
       "      <td>0</td>\n",
       "    </tr>\n",
       "  </tbody>\n",
       "</table>\n",
       "<p>5 rows × 24 columns</p>\n",
       "</div>"
      ],
      "text/plain": [
       "       adult                              belongs_to_collection  budget  \\\n",
       "5492   False                                                NaN       0   \n",
       "11469  False  {'id': 123438, 'name': 'Loose Change Collectio...    5000   \n",
       "13564  False                                                NaN       0   \n",
       "14271  False  {'id': 190135, 'name': 'Love Hina Collection',...       0   \n",
       "14608  False                                                NaN       0   \n",
       "\n",
       "                                                  genres  \\\n",
       "5492   [{'id': 28, 'name': 'Action'}, {'id': 12, 'nam...   \n",
       "11469                [{'id': 99, 'name': 'Documentary'}]   \n",
       "13564                [{'id': 99, 'name': 'Documentary'}]   \n",
       "14271  [{'id': 35, 'name': 'Comedy'}, {'id': 10749, '...   \n",
       "14608  [{'id': 28, 'name': 'Action'}, {'id': 12, 'nam...   \n",
       "\n",
       "                                                homepage      id    imdb_id  \\\n",
       "5492                                                 NaN   15173  tt0298388   \n",
       "11469                     http://www.loosechange911.com/   14277  tt0831315   \n",
       "13564                                                NaN  284117  tt1198399   \n",
       "14271                                                NaN   44685  tt0416938   \n",
       "14608  http://www.sonypictures.com/familyzone/playmobil/   35148  tt1512792   \n",
       "\n",
       "      original_language                          original_title  \\\n",
       "5492                 en              Jonah: A VeggieTales Movie   \n",
       "11469                en               Loose Change: 2nd Edition   \n",
       "13564                en                                   Fitna   \n",
       "14271                ja              ラブひな 春スペシャル ～キミサクラチルナカレ!!～   \n",
       "14608                en  Playmobil: The Secret of Pirate Island   \n",
       "\n",
       "                                                overview    ...      \\\n",
       "5492   Get ready as Bob the Tomato, Larry the Cucumbe...    ...       \n",
       "11469  What if...September 11th was not a surprise at...    ...       \n",
       "13564  A short film in which Quran verses are shown a...    ...       \n",
       "14271  The tests have come, and Keitaro can only hope...    ...       \n",
       "14608  Ahoy, matey! Your Favorite Playmobil toys have...    ...       \n",
       "\n",
       "       release_date revenue runtime  \\\n",
       "5492     2002-10-04       0    82.0   \n",
       "11469    2006-06-01       0   100.0   \n",
       "13564    2008-03-27       0    15.0   \n",
       "14271    2001-03-31       0    48.0   \n",
       "14608    2009-10-13       0   140.0   \n",
       "\n",
       "                                        spoken_languages    status  \\\n",
       "5492   [{'iso_639_1': 'cs', 'name': 'Český'}, {'iso_6...  Released   \n",
       "11469           [{'iso_639_1': 'en', 'name': 'English'}]  Released   \n",
       "13564  [{'iso_639_1': 'en', 'name': 'English'}, {'iso...  Released   \n",
       "14271               [{'iso_639_1': 'ja', 'name': '日本語'}]  Released   \n",
       "14608  [{'iso_639_1': 'fr', 'name': 'Français'}, {'is...  Released   \n",
       "\n",
       "                                 tagline  \\\n",
       "5492       Fresh Fish. Mixed Vegetables.   \n",
       "11469      What really happened on 9/11?   \n",
       "13564                                NaN   \n",
       "14271  Spring break... Love Hina Style!!   \n",
       "14608                                NaN   \n",
       "\n",
       "                                              title video vote_average  \\\n",
       "5492                     Jonah: A VeggieTales Movie  True          6.4   \n",
       "11469                     Loose Change: 2nd Edition  True          6.3   \n",
       "13564                                         Fitna  True          1.0   \n",
       "14271  Love Hina Spring Special - I Wish Your Dream  True          4.7   \n",
       "14608        Playmobil: The Secret of Pirate Island  True          0.0   \n",
       "\n",
       "      vote_count  \n",
       "5492          22  \n",
       "11469         16  \n",
       "13564          1  \n",
       "14271          3  \n",
       "14608          0  \n",
       "\n",
       "[5 rows x 24 columns]"
      ]
     },
     "execution_count": 6,
     "metadata": {},
     "output_type": "execute_result"
    }
   ],
   "source": [
    "mmt[mmt['video'] == True].head()"
   ]
  },
  {
   "cell_type": "code",
   "execution_count": 4,
   "metadata": {},
   "outputs": [
    {
     "data": {
      "text/html": [
       "<div>\n",
       "<style scoped>\n",
       "    .dataframe tbody tr th:only-of-type {\n",
       "        vertical-align: middle;\n",
       "    }\n",
       "\n",
       "    .dataframe tbody tr th {\n",
       "        vertical-align: top;\n",
       "    }\n",
       "\n",
       "    .dataframe thead th {\n",
       "        text-align: right;\n",
       "    }\n",
       "</style>\n",
       "<table border=\"1\" class=\"dataframe\">\n",
       "  <thead>\n",
       "    <tr style=\"text-align: right;\">\n",
       "      <th></th>\n",
       "      <th>budget</th>\n",
       "      <th>id</th>\n",
       "      <th>popularity</th>\n",
       "      <th>revenue</th>\n",
       "      <th>runtime</th>\n",
       "      <th>vote_average</th>\n",
       "      <th>vote_count</th>\n",
       "    </tr>\n",
       "  </thead>\n",
       "  <tbody>\n",
       "    <tr>\n",
       "      <th>count</th>\n",
       "      <td>4.546300e+04</td>\n",
       "      <td>45463.000000</td>\n",
       "      <td>45463.000000</td>\n",
       "      <td>4.546300e+04</td>\n",
       "      <td>45206.000000</td>\n",
       "      <td>45463.000000</td>\n",
       "      <td>45463.000000</td>\n",
       "    </tr>\n",
       "    <tr>\n",
       "      <th>mean</th>\n",
       "      <td>4.224579e+06</td>\n",
       "      <td>108359.918813</td>\n",
       "      <td>2.921378</td>\n",
       "      <td>1.120861e+07</td>\n",
       "      <td>94.127572</td>\n",
       "      <td>5.618217</td>\n",
       "      <td>109.890856</td>\n",
       "    </tr>\n",
       "    <tr>\n",
       "      <th>std</th>\n",
       "      <td>1.742413e+07</td>\n",
       "      <td>112460.749278</td>\n",
       "      <td>6.005234</td>\n",
       "      <td>6.433019e+07</td>\n",
       "      <td>38.406803</td>\n",
       "      <td>1.924174</td>\n",
       "      <td>491.294816</td>\n",
       "    </tr>\n",
       "    <tr>\n",
       "      <th>min</th>\n",
       "      <td>0.000000e+00</td>\n",
       "      <td>2.000000</td>\n",
       "      <td>0.000000</td>\n",
       "      <td>0.000000e+00</td>\n",
       "      <td>0.000000</td>\n",
       "      <td>0.000000</td>\n",
       "      <td>0.000000</td>\n",
       "    </tr>\n",
       "    <tr>\n",
       "      <th>25%</th>\n",
       "      <td>0.000000e+00</td>\n",
       "      <td>26449.500000</td>\n",
       "      <td>0.385945</td>\n",
       "      <td>0.000000e+00</td>\n",
       "      <td>85.000000</td>\n",
       "      <td>5.000000</td>\n",
       "      <td>3.000000</td>\n",
       "    </tr>\n",
       "    <tr>\n",
       "      <th>50%</th>\n",
       "      <td>0.000000e+00</td>\n",
       "      <td>60003.000000</td>\n",
       "      <td>1.127757</td>\n",
       "      <td>0.000000e+00</td>\n",
       "      <td>95.000000</td>\n",
       "      <td>6.000000</td>\n",
       "      <td>10.000000</td>\n",
       "    </tr>\n",
       "    <tr>\n",
       "      <th>75%</th>\n",
       "      <td>0.000000e+00</td>\n",
       "      <td>157328.000000</td>\n",
       "      <td>3.678588</td>\n",
       "      <td>0.000000e+00</td>\n",
       "      <td>107.000000</td>\n",
       "      <td>6.800000</td>\n",
       "      <td>34.000000</td>\n",
       "    </tr>\n",
       "    <tr>\n",
       "      <th>max</th>\n",
       "      <td>3.800000e+08</td>\n",
       "      <td>469172.000000</td>\n",
       "      <td>547.488298</td>\n",
       "      <td>2.787965e+09</td>\n",
       "      <td>1256.000000</td>\n",
       "      <td>10.000000</td>\n",
       "      <td>14075.000000</td>\n",
       "    </tr>\n",
       "  </tbody>\n",
       "</table>\n",
       "</div>"
      ],
      "text/plain": [
       "             budget             id    popularity       revenue       runtime  \\\n",
       "count  4.546300e+04   45463.000000  45463.000000  4.546300e+04  45206.000000   \n",
       "mean   4.224579e+06  108359.918813      2.921378  1.120861e+07     94.127572   \n",
       "std    1.742413e+07  112460.749278      6.005234  6.433019e+07     38.406803   \n",
       "min    0.000000e+00       2.000000      0.000000  0.000000e+00      0.000000   \n",
       "25%    0.000000e+00   26449.500000      0.385945  0.000000e+00     85.000000   \n",
       "50%    0.000000e+00   60003.000000      1.127757  0.000000e+00     95.000000   \n",
       "75%    0.000000e+00  157328.000000      3.678588  0.000000e+00    107.000000   \n",
       "max    3.800000e+08  469172.000000    547.488298  2.787965e+09   1256.000000   \n",
       "\n",
       "       vote_average    vote_count  \n",
       "count  45463.000000  45463.000000  \n",
       "mean       5.618217    109.890856  \n",
       "std        1.924174    491.294816  \n",
       "min        0.000000      0.000000  \n",
       "25%        5.000000      3.000000  \n",
       "50%        6.000000     10.000000  \n",
       "75%        6.800000     34.000000  \n",
       "max       10.000000  14075.000000  "
      ]
     },
     "execution_count": 4,
     "metadata": {},
     "output_type": "execute_result"
    }
   ],
   "source": [
    "mmt.describe()"
   ]
  },
  {
   "cell_type": "code",
   "execution_count": 5,
   "metadata": {},
   "outputs": [
    {
     "name": "stdout",
     "output_type": "stream",
     "text": [
      "<class 'pandas.core.frame.DataFrame'>\n",
      "RangeIndex: 45463 entries, 0 to 45462\n",
      "Data columns (total 24 columns):\n",
      "adult                    45463 non-null bool\n",
      "belongs_to_collection    4491 non-null object\n",
      "budget                   45463 non-null int64\n",
      "genres                   45463 non-null object\n",
      "homepage                 7779 non-null object\n",
      "id                       45463 non-null int64\n",
      "imdb_id                  45446 non-null object\n",
      "original_language        45452 non-null object\n",
      "original_title           45463 non-null object\n",
      "overview                 44509 non-null object\n",
      "popularity               45463 non-null float64\n",
      "poster_path              45080 non-null object\n",
      "production_companies     45463 non-null object\n",
      "production_countries     45463 non-null object\n",
      "release_date             45379 non-null object\n",
      "revenue                  45463 non-null int64\n",
      "runtime                  45206 non-null float64\n",
      "spoken_languages         45463 non-null object\n",
      "status                   45382 non-null object\n",
      "tagline                  20413 non-null object\n",
      "title                    45463 non-null object\n",
      "video                    45463 non-null bool\n",
      "vote_average             45463 non-null float64\n",
      "vote_count               45463 non-null int64\n",
      "dtypes: bool(2), float64(3), int64(4), object(15)\n",
      "memory usage: 7.7+ MB\n"
     ]
    }
   ],
   "source": [
    "mmt.info()"
   ]
  },
  {
   "cell_type": "markdown",
   "metadata": {},
   "source": [
    "** 'adult'** - niewiele wartości 'True', więc usuwam je i pozbywam się tej kolumny"
   ]
  },
  {
   "cell_type": "code",
   "execution_count": 6,
   "metadata": {},
   "outputs": [
    {
     "name": "stdout",
     "output_type": "stream",
     "text": [
      "Liczba wartości 'adult' == False : 45454.\n",
      "Liczba wartości 'adult' == True : 9.\n"
     ]
    }
   ],
   "source": [
    "print(\"Liczba wartości 'adult' == False : {}.\".format(len(mmt[mmt['adult'] == 0])))\n",
    "print(\"Liczba wartości 'adult' == True : {}.\".format(len(mmt[mmt['adult'] != 0])))"
   ]
  },
  {
   "cell_type": "code",
   "execution_count": 7,
   "metadata": {},
   "outputs": [],
   "source": [
    "mmt.drop(mmt[mmt['adult'] != False].index, axis=0, inplace = True)"
   ]
  },
  {
   "cell_type": "code",
   "execution_count": 8,
   "metadata": {},
   "outputs": [],
   "source": [
    "mmt.drop('adult', axis=1, inplace=True)"
   ]
  },
  {
   "cell_type": "markdown",
   "metadata": {},
   "source": [
    "**  'belongs_to_collection' **- wiele wartości null, zamieniam je na 0 na razie"
   ]
  },
  {
   "cell_type": "code",
   "execution_count": 9,
   "metadata": {},
   "outputs": [
    {
     "data": {
      "text/plain": [
       "40963"
      ]
     },
     "execution_count": 9,
     "metadata": {},
     "output_type": "execute_result"
    }
   ],
   "source": [
    "len(mmt[mmt['belongs_to_collection'].isna() == True])"
   ]
  },
  {
   "cell_type": "code",
   "execution_count": 47,
   "metadata": {},
   "outputs": [],
   "source": [
    "mmt['belongs_to_collection'].fillna(0, inplace=True) "
   ]
  },
  {
   "cell_type": "code",
   "execution_count": null,
   "metadata": {},
   "outputs": [],
   "source": []
  },
  {
   "cell_type": "markdown",
   "metadata": {},
   "source": [
    "** 'budget'** - tylko 8889 wartości jest niezerowa..."
   ]
  },
  {
   "cell_type": "code",
   "execution_count": 11,
   "metadata": {},
   "outputs": [
    {
     "name": "stdout",
     "output_type": "stream",
     "text": [
      "Liczba wartości 'budget' == 0: 36565.\n",
      "Liczba wartości 'budget' != 0: 8889.\n"
     ]
    }
   ],
   "source": [
    "pd.to_numeric(mmt['budget'])\n",
    "print(\"Liczba wartości 'budget' == 0: {}.\".format(len(mmt[mmt['budget'] == 0])))\n",
    "print(\"Liczba wartości 'budget' != 0: {}.\".format(len(mmt[mmt['budget'] != 0])))"
   ]
  },
  {
   "cell_type": "code",
   "execution_count": 12,
   "metadata": {},
   "outputs": [],
   "source": [
    "mmt.drop(mmt[mmt['budget'] == 0].index, axis=0, inplace = True)"
   ]
  },
  {
   "cell_type": "code",
   "execution_count": 13,
   "metadata": {},
   "outputs": [
    {
     "name": "stdout",
     "output_type": "stream",
     "text": [
      "<class 'pandas.core.frame.DataFrame'>\n",
      "Int64Index: 8889 entries, 0 to 45419\n",
      "Data columns (total 23 columns):\n",
      "belongs_to_collection    8889 non-null object\n",
      "budget                   8889 non-null int64\n",
      "genres                   8889 non-null object\n",
      "homepage                 2755 non-null object\n",
      "id                       8889 non-null int64\n",
      "imdb_id                  8887 non-null object\n",
      "original_language        8889 non-null object\n",
      "original_title           8889 non-null object\n",
      "overview                 8842 non-null object\n",
      "popularity               8889 non-null float64\n",
      "poster_path              8882 non-null object\n",
      "production_companies     8889 non-null object\n",
      "production_countries     8889 non-null object\n",
      "release_date             8885 non-null object\n",
      "revenue                  8889 non-null int64\n",
      "runtime                  8879 non-null float64\n",
      "spoken_languages         8889 non-null object\n",
      "status                   8886 non-null object\n",
      "tagline                  6683 non-null object\n",
      "title                    8889 non-null object\n",
      "video                    8889 non-null bool\n",
      "vote_average             8889 non-null float64\n",
      "vote_count               8889 non-null int64\n",
      "dtypes: bool(1), float64(3), int64(4), object(15)\n",
      "memory usage: 1.6+ MB\n"
     ]
    }
   ],
   "source": [
    "mmt.info()"
   ]
  },
  {
   "cell_type": "markdown",
   "metadata": {},
   "source": [
    "**  'genres' **- nie ma wartości null"
   ]
  },
  {
   "cell_type": "code",
   "execution_count": 14,
   "metadata": {},
   "outputs": [
    {
     "data": {
      "text/plain": [
       "0"
      ]
     },
     "execution_count": 14,
     "metadata": {},
     "output_type": "execute_result"
    }
   ],
   "source": [
    "len(mmt[mmt['genres'].isna() == True])"
   ]
  },
  {
   "cell_type": "markdown",
   "metadata": {},
   "source": [
    "** 'original_language' **- posiada niewiele wartości null"
   ]
  },
  {
   "cell_type": "code",
   "execution_count": 15,
   "metadata": {},
   "outputs": [
    {
     "data": {
      "text/plain": [
       "0"
      ]
     },
     "execution_count": 15,
     "metadata": {},
     "output_type": "execute_result"
    }
   ],
   "source": [
    "len(mmt[mmt['original_language'].isna() == True])"
   ]
  },
  {
   "cell_type": "code",
   "execution_count": 16,
   "metadata": {},
   "outputs": [
    {
     "data": {
      "text/plain": [
       "array(['en', 'fr', 'nl', 'cn', 'ru', 'es', 'zh', 'sv', 'sr', 'it', 'de',\n",
       "       'ja', 'no', 'fa', 'pt', 'da', 'xx', 'bs', 'cs', 'ko', 'el', 'hi',\n",
       "       'pl', 'ps', 'fi', 'ro', 'hu', 'he', 'af', 'th', 'bo', 'la', 'vi',\n",
       "       'ca', 'bm', 'tr', 'ta', 'bg', 'nb', 'id', 'lv', 'ku', 'ml', 'lo',\n",
       "       'ar', 'kn', 'is', 'sl', 'et', 'mr', 'sq', 'te', 'uk', 'ur'],\n",
       "      dtype=object)"
      ]
     },
     "execution_count": 16,
     "metadata": {},
     "output_type": "execute_result"
    }
   ],
   "source": [
    "mmt['original_language'].unique()"
   ]
  },
  {
   "cell_type": "markdown",
   "metadata": {},
   "source": [
    "** 'popularity' ** - istnieje kilka wartości 0, niestety na ten moment nie wiem co dokładnie oznacza ta zmienna i czy wartość 0 jest poprawna"
   ]
  },
  {
   "cell_type": "code",
   "execution_count": 17,
   "metadata": {},
   "outputs": [
    {
     "name": "stdout",
     "output_type": "stream",
     "text": [
      "Liczba wartości 'popularity' == 0 : 2.\n"
     ]
    }
   ],
   "source": [
    "print(\"Liczba wartości 'popularity' == 0 : {}.\".format(len(mmt[mmt['popularity'] == 0])))"
   ]
  },
  {
   "cell_type": "code",
   "execution_count": 18,
   "metadata": {},
   "outputs": [
    {
     "name": "stdout",
     "output_type": "stream",
     "text": [
      "Min value of 'popularity' 0.0.\n",
      "Max value of 'popularity' 547.4882980000001.\n"
     ]
    }
   ],
   "source": [
    "print(\"Min value of 'popularity' {}.\".format(min(mmt['popularity'])))\n",
    "print(\"Max value of 'popularity' {}.\".format(max(mmt['popularity'])))"
   ]
  },
  {
   "cell_type": "markdown",
   "metadata": {},
   "source": [
    "** 'status'** - niewiele wartości jest inna od 'Released', po za tym niewiele wnoszą nam filmy, które nie zostały wydane. Zatem usuwam te wartości, a następnie usuwam tą kolumnę"
   ]
  },
  {
   "cell_type": "code",
   "execution_count": 19,
   "metadata": {},
   "outputs": [
    {
     "data": {
      "text/plain": [
       "array(['Released', 'Rumored', 'Post Production', nan], dtype=object)"
      ]
     },
     "execution_count": 19,
     "metadata": {},
     "output_type": "execute_result"
    }
   ],
   "source": [
    "mmt['status'].unique()"
   ]
  },
  {
   "cell_type": "code",
   "execution_count": 20,
   "metadata": {},
   "outputs": [
    {
     "data": {
      "text/plain": [
       "25"
      ]
     },
     "execution_count": 20,
     "metadata": {},
     "output_type": "execute_result"
    }
   ],
   "source": [
    "len(mmt[mmt['status'] != 'Released'])"
   ]
  },
  {
   "cell_type": "code",
   "execution_count": 21,
   "metadata": {},
   "outputs": [],
   "source": [
    "mmt.drop(mmt[mmt['status'] != 'Released'].index, axis=0, inplace = True)"
   ]
  },
  {
   "cell_type": "code",
   "execution_count": 22,
   "metadata": {},
   "outputs": [],
   "source": [
    "mmt.drop('status', axis=1, inplace=True)"
   ]
  },
  {
   "cell_type": "markdown",
   "metadata": {},
   "source": [
    "**  'release_date'** istnieje kilka wartości null"
   ]
  },
  {
   "cell_type": "code",
   "execution_count": 23,
   "metadata": {},
   "outputs": [
    {
     "data": {
      "text/plain": [
       "4"
      ]
     },
     "execution_count": 23,
     "metadata": {},
     "output_type": "execute_result"
    }
   ],
   "source": [
    "len(mmt[mmt['release_date'].isna() == True])"
   ]
  },
  {
   "cell_type": "code",
   "execution_count": 24,
   "metadata": {},
   "outputs": [],
   "source": [
    "mmt.drop(mmt[mmt['release_date'].isna()].index, axis=0, inplace = True)"
   ]
  },
  {
   "cell_type": "code",
   "execution_count": 25,
   "metadata": {},
   "outputs": [],
   "source": [
    "mmt.drop(mmt[mmt['release_date'] < '1950-01-01'].index, axis=0, inplace = True)"
   ]
  },
  {
   "cell_type": "code",
   "execution_count": 26,
   "metadata": {},
   "outputs": [
    {
     "name": "stdout",
     "output_type": "stream",
     "text": [
      "2017-10-27 00:00:00\n",
      "1950-03-04 00:00:00\n"
     ]
    }
   ],
   "source": [
    "mmt['release_date'] = pd.to_datetime(mmt['release_date'], format='%Y-%m-%d')\n",
    "print(max(mmt['release_date']))\n",
    "print(min(mmt['release_date']))"
   ]
  },
  {
   "cell_type": "code",
   "execution_count": 27,
   "metadata": {},
   "outputs": [
    {
     "data": {
      "text/plain": [
       "(array([ 13.,  13.,  22.,  27.,  24.,  16.,  25.,  24.,  20.,  35.,  31.,\n",
       "         29.,  37.,  41.,  41.,  52.,  49.,  43.,  44.,  49.,  54.,  59.,\n",
       "         73.,  91.,  79., 101., 110., 103., 124., 131., 127., 129., 162.,\n",
       "        189., 191., 232., 253., 270., 319., 314., 347., 468., 484., 509.,\n",
       "        582., 572., 579., 525., 491., 324.]),\n",
       " array([711920.  , 712414.18, 712908.36, 713402.54, 713896.72, 714390.9 ,\n",
       "        714885.08, 715379.26, 715873.44, 716367.62, 716861.8 , 717355.98,\n",
       "        717850.16, 718344.34, 718838.52, 719332.7 , 719826.88, 720321.06,\n",
       "        720815.24, 721309.42, 721803.6 , 722297.78, 722791.96, 723286.14,\n",
       "        723780.32, 724274.5 , 724768.68, 725262.86, 725757.04, 726251.22,\n",
       "        726745.4 , 727239.58, 727733.76, 728227.94, 728722.12, 729216.3 ,\n",
       "        729710.48, 730204.66, 730698.84, 731193.02, 731687.2 , 732181.38,\n",
       "        732675.56, 733169.74, 733663.92, 734158.1 , 734652.28, 735146.46,\n",
       "        735640.64, 736134.82, 736629.  ]),\n",
       " <a list of 50 Patch objects>)"
      ]
     },
     "execution_count": 27,
     "metadata": {},
     "output_type": "execute_result"
    },
    {
     "data": {
      "image/png": "[encoded data removed]",
      "text/plain": [
       "<Figure size 432x288 with 1 Axes>"
      ]
     },
     "metadata": {},
     "output_type": "display_data"
    }
   ],
   "source": [
    "plt.hist(mmt['release_date'].dropna(), bins=50)"
   ]
  },
  {
   "cell_type": "code",
   "execution_count": 28,
   "metadata": {},
   "outputs": [
    {
     "name": "stdout",
     "output_type": "stream",
     "text": [
      "<class 'pandas.core.frame.DataFrame'>\n",
      "Int64Index: 8627 entries, 0 to 45419\n",
      "Data columns (total 22 columns):\n",
      "belongs_to_collection    8627 non-null object\n",
      "budget                   8627 non-null int64\n",
      "genres                   8627 non-null object\n",
      "homepage                 2739 non-null object\n",
      "id                       8627 non-null int64\n",
      "imdb_id                  8626 non-null object\n",
      "original_language        8627 non-null object\n",
      "original_title           8627 non-null object\n",
      "overview                 8581 non-null object\n",
      "popularity               8627 non-null float64\n",
      "poster_path              8623 non-null object\n",
      "production_companies     8627 non-null object\n",
      "production_countries     8627 non-null object\n",
      "release_date             8627 non-null datetime64[ns]\n",
      "revenue                  8627 non-null int64\n",
      "runtime                  8617 non-null float64\n",
      "spoken_languages         8627 non-null object\n",
      "tagline                  6521 non-null object\n",
      "title                    8627 non-null object\n",
      "video                    8627 non-null bool\n",
      "vote_average             8627 non-null float64\n",
      "vote_count               8627 non-null int64\n",
      "dtypes: bool(1), datetime64[ns](1), float64(3), int64(4), object(13)\n",
      "memory usage: 1.5+ MB\n"
     ]
    }
   ],
   "source": [
    "mmt.info()"
   ]
  },
  {
   "cell_type": "markdown",
   "metadata": {},
   "source": [
    "** 'revenue' **- tylko 7408 wartości nie zawiera 0..."
   ]
  },
  {
   "cell_type": "code",
   "execution_count": 29,
   "metadata": {},
   "outputs": [
    {
     "name": "stdout",
     "output_type": "stream",
     "text": [
      "Liczba wartości 'revenue' == 0: 3354.\n",
      "Liczba wartości 'revenue' != 0: 5273.\n"
     ]
    }
   ],
   "source": [
    "print(\"Liczba wartości 'revenue' == 0: {}.\".format(len(mmt[mmt['revenue'] == 0])))\n",
    "print(\"Liczba wartości 'revenue' != 0: {}.\".format(len(mmt[mmt['revenue'] != 0])))"
   ]
  },
  {
   "cell_type": "code",
   "execution_count": 30,
   "metadata": {},
   "outputs": [],
   "source": [
    "mmt.drop(mmt[mmt['revenue'] == 0].index, axis=0, inplace = True)"
   ]
  },
  {
   "cell_type": "markdown",
   "metadata": {},
   "source": [
    "** 'runtime' ** - istnieją wartości null- na razie zamienię je na 0. Wartości 0 są na pewno nieprawidłowe i należy się nimi zająć (średnia, mediana, usunięcie). Również jest sporo wysokich wartości odstających, które może są prawdziwe (miniseriale się tu znalazły..), więc część z nich można by usunąć."
   ]
  },
  {
   "cell_type": "code",
   "execution_count": 31,
   "metadata": {},
   "outputs": [
    {
     "data": {
      "text/plain": [
       "1"
      ]
     },
     "execution_count": 31,
     "metadata": {},
     "output_type": "execute_result"
    }
   ],
   "source": [
    "len(mmt[mmt['runtime'].isna() == True])"
   ]
  },
  {
   "cell_type": "code",
   "execution_count": 32,
   "metadata": {},
   "outputs": [],
   "source": [
    "mmt['runtime'].fillna(0, inplace=True) "
   ]
  },
  {
   "cell_type": "code",
   "execution_count": 33,
   "metadata": {},
   "outputs": [
    {
     "name": "stdout",
     "output_type": "stream",
     "text": [
      "338.0\n",
      "0.0\n"
     ]
    }
   ],
   "source": [
    "print(max(mmt['runtime']))\n",
    "print(min(mmt['runtime']))"
   ]
  },
  {
   "cell_type": "code",
   "execution_count": 34,
   "metadata": {},
   "outputs": [
    {
     "name": "stdout",
     "output_type": "stream",
     "text": [
      "Liczba wartości zerowych cechy 'runtime': 12.\n"
     ]
    }
   ],
   "source": [
    "print(\"Liczba wartości zerowych cechy 'runtime': {}.\".format(len(mmt[mmt['runtime'] == 0])))"
   ]
  },
  {
   "cell_type": "code",
   "execution_count": 35,
   "metadata": {},
   "outputs": [],
   "source": [
    "mmt.drop(mmt[mmt['runtime'] == 0].index, axis=0, inplace = True)"
   ]
  },
  {
   "cell_type": "code",
   "execution_count": 36,
   "metadata": {},
   "outputs": [
    {
     "data": {
      "text/plain": [
       "<matplotlib.axes._subplots.AxesSubplot at 0xb9a5a20>"
      ]
     },
     "execution_count": 36,
     "metadata": {},
     "output_type": "execute_result"
    },
    {
     "data": {
      "image/png": "[encoded data removed]",
      "text/plain": [
       "<Figure size 432x288 with 1 Axes>"
      ]
     },
     "metadata": {},
     "output_type": "display_data"
    }
   ],
   "source": [
    "sns.boxplot(mmt['runtime'])"
   ]
  },
  {
   "cell_type": "code",
   "execution_count": 37,
   "metadata": {},
   "outputs": [
    {
     "data": {
      "text/plain": [
       "<matplotlib.axes._subplots.AxesSubplot at 0xba4d780>"
      ]
     },
     "execution_count": 37,
     "metadata": {},
     "output_type": "execute_result"
    },
    {
     "data": {
      "image/png": "[encoded data removed]",
      "text/plain": [
       "<Figure size 432x288 with 1 Axes>"
      ]
     },
     "metadata": {},
     "output_type": "display_data"
    }
   ],
   "source": [
    "sns.distplot(mmt['runtime'], kde=False)"
   ]
  },
  {
   "cell_type": "markdown",
   "metadata": {},
   "source": [
    "** 'vote_average' ** oraz ** 'vote_count'** pochodzą z serwisu tmdb. Jednak takie informacje chciałam pobrać z imdb. Usuwam te kolumny."
   ]
  },
  {
   "cell_type": "code",
   "execution_count": 38,
   "metadata": {},
   "outputs": [
    {
     "name": "stdout",
     "output_type": "stream",
     "text": [
      "7\n",
      "9.1\n",
      "0.0\n"
     ]
    }
   ],
   "source": [
    "print(len(mmt[mmt['vote_average'] == 0]))\n",
    "print(max(mmt['vote_average']))\n",
    "print(min(mmt['vote_average']))"
   ]
  },
  {
   "cell_type": "code",
   "execution_count": 39,
   "metadata": {},
   "outputs": [
    {
     "name": "stdout",
     "output_type": "stream",
     "text": [
      "7\n",
      "14075\n",
      "0\n"
     ]
    }
   ],
   "source": [
    "print(len(mmt[mmt['vote_count'] == 0]))\n",
    "print(max(mmt['vote_count']))\n",
    "print(min(mmt['vote_count']))\n"
   ]
  },
  {
   "cell_type": "code",
   "execution_count": 40,
   "metadata": {},
   "outputs": [],
   "source": [
    "mmt.drop('vote_average', axis=1, inplace=True)\n",
    "mmt.drop('vote_count', axis=1, inplace=True)"
   ]
  },
  {
   "cell_type": "markdown",
   "metadata": {},
   "source": [
    "#### Dodaję nowe eksperymentalne kolmuny: words_in_title, words_in_original_title"
   ]
  },
  {
   "cell_type": "code",
   "execution_count": 41,
   "metadata": {},
   "outputs": [],
   "source": [
    "mmt['words_in_title']  = mmt['title'].str.lower().str.split().apply(len)\n",
    "mmt['words_in_original_title']  = mmt['original_title'].str.lower().str.split().apply(len)"
   ]
  },
  {
   "cell_type": "markdown",
   "metadata": {},
   "source": [
    "#### Cechy, które niewiele wniosą, dlatego usuwam"
   ]
  },
  {
   "cell_type": "code",
   "execution_count": 42,
   "metadata": {},
   "outputs": [],
   "source": [
    "mmt.drop('homepage', axis=1, inplace=True)\n",
    "mmt.drop('id', axis=1, inplace=True)\n",
    "mmt.drop('original_title', axis=1, inplace=True)\n",
    "mmt.drop('overview', axis=1, inplace=True)\n",
    "mmt.drop('poster_path', axis=1, inplace=True)\n",
    "mmt.drop('tagline', axis=1, inplace=True)\n",
    "mmt.drop('title', axis=1, inplace=True)\n",
    "mmt.drop('video', axis=1, inplace=True)"
   ]
  },
  {
   "cell_type": "markdown",
   "metadata": {},
   "source": [
    "Jak widać poniżej wartości null zawiera tylko zmienna 'imdb_id', która będzie potrzebna do wyciągnięcia danych z imdb. Usunę te watrtości."
   ]
  },
  {
   "cell_type": "code",
   "execution_count": 43,
   "metadata": {},
   "outputs": [
    {
     "name": "stdout",
     "output_type": "stream",
     "text": [
      "<class 'pandas.core.frame.DataFrame'>\n",
      "Int64Index: 5261 entries, 0 to 45419\n",
      "Data columns (total 14 columns):\n",
      "belongs_to_collection      5261 non-null object\n",
      "budget                     5261 non-null int64\n",
      "genres                     5261 non-null object\n",
      "imdb_id                    5261 non-null object\n",
      "original_language          5261 non-null object\n",
      "popularity                 5261 non-null float64\n",
      "production_companies       5261 non-null object\n",
      "production_countries       5261 non-null object\n",
      "release_date               5261 non-null datetime64[ns]\n",
      "revenue                    5261 non-null int64\n",
      "runtime                    5261 non-null float64\n",
      "spoken_languages           5261 non-null object\n",
      "words_in_title             5261 non-null int64\n",
      "words_in_original_title    5261 non-null int64\n",
      "dtypes: datetime64[ns](1), float64(2), int64(4), object(7)\n",
      "memory usage: 616.5+ KB\n"
     ]
    }
   ],
   "source": [
    "mmt.info()"
   ]
  },
  {
   "cell_type": "code",
   "execution_count": 44,
   "metadata": {},
   "outputs": [
    {
     "name": "stdout",
     "output_type": "stream",
     "text": [
      "<class 'pandas.core.frame.DataFrame'>\n",
      "Int64Index: 5261 entries, 0 to 45419\n",
      "Data columns (total 14 columns):\n",
      "belongs_to_collection      5261 non-null object\n",
      "budget                     5261 non-null int64\n",
      "genres                     5261 non-null object\n",
      "imdb_id                    5261 non-null object\n",
      "original_language          5261 non-null object\n",
      "popularity                 5261 non-null float64\n",
      "production_companies       5261 non-null object\n",
      "production_countries       5261 non-null object\n",
      "release_date               5261 non-null datetime64[ns]\n",
      "revenue                    5261 non-null int64\n",
      "runtime                    5261 non-null float64\n",
      "spoken_languages           5261 non-null object\n",
      "words_in_title             5261 non-null int64\n",
      "words_in_original_title    5261 non-null int64\n",
      "dtypes: datetime64[ns](1), float64(2), int64(4), object(7)\n",
      "memory usage: 616.5+ KB\n"
     ]
    }
   ],
   "source": [
    "mmt.drop(mmt[mmt['imdb_id'].isna()].index, axis=0, inplace = True)\n",
    "mmt.info()"
   ]
  },
  {
   "cell_type": "code",
   "execution_count": 45,
   "metadata": {},
   "outputs": [
    {
     "data": {
      "text/html": [
       "<div>\n",
       "<style scoped>\n",
       "    .dataframe tbody tr th:only-of-type {\n",
       "        vertical-align: middle;\n",
       "    }\n",
       "\n",
       "    .dataframe tbody tr th {\n",
       "        vertical-align: top;\n",
       "    }\n",
       "\n",
       "    .dataframe thead th {\n",
       "        text-align: right;\n",
       "    }\n",
       "</style>\n",
       "<table border=\"1\" class=\"dataframe\">\n",
       "  <thead>\n",
       "    <tr style=\"text-align: right;\">\n",
       "      <th></th>\n",
       "      <th>belongs_to_collection</th>\n",
       "      <th>budget</th>\n",
       "      <th>genres</th>\n",
       "      <th>imdb_id</th>\n",
       "      <th>original_language</th>\n",
       "      <th>popularity</th>\n",
       "      <th>production_companies</th>\n",
       "      <th>production_countries</th>\n",
       "      <th>release_date</th>\n",
       "      <th>revenue</th>\n",
       "      <th>runtime</th>\n",
       "      <th>spoken_languages</th>\n",
       "      <th>words_in_title</th>\n",
       "      <th>words_in_original_title</th>\n",
       "    </tr>\n",
       "  </thead>\n",
       "  <tbody>\n",
       "    <tr>\n",
       "      <th>0</th>\n",
       "      <td>{'id': 10194, 'name': 'Toy Story Collection', ...</td>\n",
       "      <td>30000000</td>\n",
       "      <td>[{'id': 16, 'name': 'Animation'}, {'id': 35, '...</td>\n",
       "      <td>tt0114709</td>\n",
       "      <td>en</td>\n",
       "      <td>21.946943</td>\n",
       "      <td>[{'name': 'Pixar Animation Studios', 'id': 3}]</td>\n",
       "      <td>[{'iso_3166_1': 'US', 'name': 'United States o...</td>\n",
       "      <td>1995-10-30</td>\n",
       "      <td>373554033</td>\n",
       "      <td>81.0</td>\n",
       "      <td>[{'iso_639_1': 'en', 'name': 'English'}]</td>\n",
       "      <td>2</td>\n",
       "      <td>2</td>\n",
       "    </tr>\n",
       "    <tr>\n",
       "      <th>1</th>\n",
       "      <td>0</td>\n",
       "      <td>65000000</td>\n",
       "      <td>[{'id': 12, 'name': 'Adventure'}, {'id': 14, '...</td>\n",
       "      <td>tt0113497</td>\n",
       "      <td>en</td>\n",
       "      <td>17.015539</td>\n",
       "      <td>[{'name': 'TriStar Pictures', 'id': 559}, {'na...</td>\n",
       "      <td>[{'iso_3166_1': 'US', 'name': 'United States o...</td>\n",
       "      <td>1995-12-15</td>\n",
       "      <td>262797249</td>\n",
       "      <td>104.0</td>\n",
       "      <td>[{'iso_639_1': 'en', 'name': 'English'}, {'iso...</td>\n",
       "      <td>1</td>\n",
       "      <td>1</td>\n",
       "    </tr>\n",
       "    <tr>\n",
       "      <th>3</th>\n",
       "      <td>0</td>\n",
       "      <td>16000000</td>\n",
       "      <td>[{'id': 35, 'name': 'Comedy'}, {'id': 18, 'nam...</td>\n",
       "      <td>tt0114885</td>\n",
       "      <td>en</td>\n",
       "      <td>3.859495</td>\n",
       "      <td>[{'name': 'Twentieth Century Fox Film Corporat...</td>\n",
       "      <td>[{'iso_3166_1': 'US', 'name': 'United States o...</td>\n",
       "      <td>1995-12-22</td>\n",
       "      <td>81452156</td>\n",
       "      <td>127.0</td>\n",
       "      <td>[{'iso_639_1': 'en', 'name': 'English'}]</td>\n",
       "      <td>3</td>\n",
       "      <td>3</td>\n",
       "    </tr>\n",
       "    <tr>\n",
       "      <th>5</th>\n",
       "      <td>0</td>\n",
       "      <td>60000000</td>\n",
       "      <td>[{'id': 28, 'name': 'Action'}, {'id': 80, 'nam...</td>\n",
       "      <td>tt0113277</td>\n",
       "      <td>en</td>\n",
       "      <td>17.924927</td>\n",
       "      <td>[{'name': 'Regency Enterprises', 'id': 508}, {...</td>\n",
       "      <td>[{'iso_3166_1': 'US', 'name': 'United States o...</td>\n",
       "      <td>1995-12-15</td>\n",
       "      <td>187436818</td>\n",
       "      <td>170.0</td>\n",
       "      <td>[{'iso_639_1': 'en', 'name': 'English'}, {'iso...</td>\n",
       "      <td>1</td>\n",
       "      <td>1</td>\n",
       "    </tr>\n",
       "    <tr>\n",
       "      <th>8</th>\n",
       "      <td>0</td>\n",
       "      <td>35000000</td>\n",
       "      <td>[{'id': 28, 'name': 'Action'}, {'id': 12, 'nam...</td>\n",
       "      <td>tt0114576</td>\n",
       "      <td>en</td>\n",
       "      <td>5.231580</td>\n",
       "      <td>[{'name': 'Universal Pictures', 'id': 33}, {'n...</td>\n",
       "      <td>[{'iso_3166_1': 'US', 'name': 'United States o...</td>\n",
       "      <td>1995-12-22</td>\n",
       "      <td>64350171</td>\n",
       "      <td>106.0</td>\n",
       "      <td>[{'iso_639_1': 'en', 'name': 'English'}]</td>\n",
       "      <td>2</td>\n",
       "      <td>2</td>\n",
       "    </tr>\n",
       "  </tbody>\n",
       "</table>\n",
       "</div>"
      ],
      "text/plain": [
       "                               belongs_to_collection    budget  \\\n",
       "0  {'id': 10194, 'name': 'Toy Story Collection', ...  30000000   \n",
       "1                                                  0  65000000   \n",
       "3                                                  0  16000000   \n",
       "5                                                  0  60000000   \n",
       "8                                                  0  35000000   \n",
       "\n",
       "                                              genres    imdb_id  \\\n",
       "0  [{'id': 16, 'name': 'Animation'}, {'id': 35, '...  tt0114709   \n",
       "1  [{'id': 12, 'name': 'Adventure'}, {'id': 14, '...  tt0113497   \n",
       "3  [{'id': 35, 'name': 'Comedy'}, {'id': 18, 'nam...  tt0114885   \n",
       "5  [{'id': 28, 'name': 'Action'}, {'id': 80, 'nam...  tt0113277   \n",
       "8  [{'id': 28, 'name': 'Action'}, {'id': 12, 'nam...  tt0114576   \n",
       "\n",
       "  original_language  popularity  \\\n",
       "0                en   21.946943   \n",
       "1                en   17.015539   \n",
       "3                en    3.859495   \n",
       "5                en   17.924927   \n",
       "8                en    5.231580   \n",
       "\n",
       "                                production_companies  \\\n",
       "0     [{'name': 'Pixar Animation Studios', 'id': 3}]   \n",
       "1  [{'name': 'TriStar Pictures', 'id': 559}, {'na...   \n",
       "3  [{'name': 'Twentieth Century Fox Film Corporat...   \n",
       "5  [{'name': 'Regency Enterprises', 'id': 508}, {...   \n",
       "8  [{'name': 'Universal Pictures', 'id': 33}, {'n...   \n",
       "\n",
       "                                production_countries release_date    revenue  \\\n",
       "0  [{'iso_3166_1': 'US', 'name': 'United States o...   1995-10-30  373554033   \n",
       "1  [{'iso_3166_1': 'US', 'name': 'United States o...   1995-12-15  262797249   \n",
       "3  [{'iso_3166_1': 'US', 'name': 'United States o...   1995-12-22   81452156   \n",
       "5  [{'iso_3166_1': 'US', 'name': 'United States o...   1995-12-15  187436818   \n",
       "8  [{'iso_3166_1': 'US', 'name': 'United States o...   1995-12-22   64350171   \n",
       "\n",
       "   runtime                                   spoken_languages  words_in_title  \\\n",
       "0     81.0           [{'iso_639_1': 'en', 'name': 'English'}]               2   \n",
       "1    104.0  [{'iso_639_1': 'en', 'name': 'English'}, {'iso...               1   \n",
       "3    127.0           [{'iso_639_1': 'en', 'name': 'English'}]               3   \n",
       "5    170.0  [{'iso_639_1': 'en', 'name': 'English'}, {'iso...               1   \n",
       "8    106.0           [{'iso_639_1': 'en', 'name': 'English'}]               2   \n",
       "\n",
       "   words_in_original_title  \n",
       "0                        2  \n",
       "1                        1  \n",
       "3                        3  \n",
       "5                        1  \n",
       "8                        2  "
      ]
     },
     "execution_count": 45,
     "metadata": {},
     "output_type": "execute_result"
    }
   ],
   "source": [
    "mmt.head()"
   ]
  },
  {
   "cell_type": "code",
   "execution_count": 48,
   "metadata": {},
   "outputs": [],
   "source": [
    "mmt.to_csv('data/mmt_initial_preparation.csv', index=False)"
   ]
  }
 ],
 "metadata": {
  "kernelspec": {
   "display_name": "Python 3",
   "language": "python",
   "name": "python3"
  },
  "language_info": {
   "codemirror_mode": {
    "name": "ipython",
    "version": 3
   },
   "file_extension": ".py",
   "mimetype": "text/x-python",
   "name": "python",
   "nbconvert_exporter": "python",
   "pygments_lexer": "ipython3",
   "version": "3.6.5"
  }
 },
 "nbformat": 4,
 "nbformat_minor": 2
}
