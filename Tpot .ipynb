{
 "cells": [
  {
   "cell_type": "code",
   "execution_count": 1,
   "metadata": {},
   "outputs": [],
   "source": [
    "import pandas as pd\n",
    "from tpot import TPOTRegressor\n",
    "import helpers\n",
    "from sklearn.metrics.scorer import make_scorer\n",
    "from sklearn.model_selection import train_test_split"
   ]
  },
  {
   "cell_type": "code",
   "execution_count": 2,
   "metadata": {},
   "outputs": [],
   "source": [
    "mmt = pd.read_csv('data/mmt_selected.csv')"
   ]
  },
  {
   "cell_type": "code",
   "execution_count": 4,
   "metadata": {},
   "outputs": [],
   "source": [
    "X = mmt\n",
    "y = mmt['averageRating']"
   ]
  },
  {
   "cell_type": "code",
   "execution_count": 5,
   "metadata": {},
   "outputs": [],
   "source": [
    "accuracy = make_scorer(helpers.evaluate, greater_is_better=True)"
   ]
  },
  {
   "cell_type": "code",
   "execution_count": 6,
   "metadata": {},
   "outputs": [],
   "source": [
    "X = mmt.drop('averageRating', axis=1)\n",
    "y = mmt['averageRating']\n",
    "X_train, X_test, y_train, y_test = train_test_split(X, y, test_size=0.3, random_state=101)"
   ]
  },
  {
   "cell_type": "code",
   "execution_count": 7,
   "metadata": {},
   "outputs": [],
   "source": [
    "tpot = TPOTRegressor(generations=200, verbosity=2, cv=10, n_jobs=-1, scoring='neg_mean_squared_error')"
   ]
  },
  {
   "cell_type": "code",
   "execution_count": 8,
   "metadata": {},
   "outputs": [
    {
     "name": "stdout",
     "output_type": "stream",
     "text": [
      "Warning: xgboost.XGBRegressor is not available and will not be used by TPOT.\n"
     ]
    },
    {
     "data": {
      "application/vnd.jupyter.widget-view+json": {
       "model_id": "29d67ae5821e46819d8036a0093bce84",
       "version_major": 2,
       "version_minor": 0
      },
      "text/plain": [
       "HBox(children=(IntProgress(value=0, description='Optimization Progress', max=20100, style=ProgressStyle(descri…"
      ]
     },
     "metadata": {},
     "output_type": "display_data"
    },
    {
     "name": "stdout",
     "output_type": "stream",
     "text": [
      "Generation 1 - Current best internal CV score: -0.46251593011108466\n",
      "Generation 2 - Current best internal CV score: -0.4555003428946819\n",
      "Generation 3 - Current best internal CV score: -0.4555003428946819\n",
      "Generation 4 - Current best internal CV score: -0.4555003428946819\n",
      "Generation 5 - Current best internal CV score: -0.4555003428946819\n",
      "Generation 6 - Current best internal CV score: -0.4555003428946819\n",
      "Generation 7 - Current best internal CV score: -0.4555003428946819\n",
      "Generation 8 - Current best internal CV score: -0.45478541847450255\n",
      "Generation 9 - Current best internal CV score: -0.45478541847450255\n",
      "Generation 10 - Current best internal CV score: -0.4520063896606411\n",
      "Generation 11 - Current best internal CV score: -0.45008647695210274\n",
      "Generation 12 - Current best internal CV score: -0.45001756928037073\n",
      "Generation 13 - Current best internal CV score: -0.44919250162217256\n",
      "Generation 14 - Current best internal CV score: -0.44919250162217256\n",
      "Generation 15 - Current best internal CV score: -0.4443294264524\n",
      "Generation 16 - Current best internal CV score: -0.4443294264524\n",
      "Generation 17 - Current best internal CV score: -0.4443294264524\n",
      "Generation 18 - Current best internal CV score: -0.4429706472312539\n",
      "Generation 19 - Current best internal CV score: -0.4429706472312539\n",
      "Generation 20 - Current best internal CV score: -0.4420886848155918\n",
      "Generation 21 - Current best internal CV score: -0.4404981930892249\n",
      "Generation 22 - Current best internal CV score: -0.44003624290939464\n",
      "Generation 23 - Current best internal CV score: -0.43978550451816256\n",
      "Generation 24 - Current best internal CV score: -0.43978550451816256\n",
      "Generation 25 - Current best internal CV score: -0.4392420515382411\n",
      "Generation 26 - Current best internal CV score: -0.4392420515382411\n",
      "Generation 27 - Current best internal CV score: -0.4392420515382411\n",
      "Generation 28 - Current best internal CV score: -0.4392420515382411\n",
      "Generation 29 - Current best internal CV score: -0.43744863184198657\n",
      "Generation 30 - Current best internal CV score: -0.43744863184198657\n",
      "Generation 31 - Current best internal CV score: -0.43659957977599995\n",
      "Generation 32 - Current best internal CV score: -0.43659957977599995\n",
      "Generation 33 - Current best internal CV score: -0.43480919874059454\n",
      "Generation 34 - Current best internal CV score: -0.43480919874059454\n",
      "Generation 35 - Current best internal CV score: -0.43480919874059454\n",
      "Generation 36 - Current best internal CV score: -0.43480919874059454\n",
      "Generation 37 - Current best internal CV score: -0.43480919874059454\n",
      "Generation 38 - Current best internal CV score: -0.43480919874059454\n",
      "Generation 39 - Current best internal CV score: -0.43432283397845195\n",
      "Generation 40 - Current best internal CV score: -0.43432283397845195\n",
      "Generation 41 - Current best internal CV score: -0.43432283397845195\n",
      "Generation 42 - Current best internal CV score: -0.43432283397845195\n",
      "Generation 43 - Current best internal CV score: -0.43432283397845195\n",
      "Generation 44 - Current best internal CV score: -0.43432283397845195\n",
      "Generation 45 - Current best internal CV score: -0.43432283397845195\n",
      "Generation 46 - Current best internal CV score: -0.43432283397845195\n",
      "Generation 47 - Current best internal CV score: -0.43375046782383314\n",
      "Generation 48 - Current best internal CV score: -0.43375046782383314\n",
      "Generation 49 - Current best internal CV score: -0.43375046782383314\n",
      "Generation 50 - Current best internal CV score: -0.43375046782383314\n",
      "Generation 51 - Current best internal CV score: -0.43375046782383314\n",
      "Generation 52 - Current best internal CV score: -0.43375046782383314\n",
      "Generation 53 - Current best internal CV score: -0.43375046782383314\n",
      "Generation 54 - Current best internal CV score: -0.43375046782383314\n",
      "Generation 55 - Current best internal CV score: -0.43375046782383314\n",
      "Generation 56 - Current best internal CV score: -0.4331324210994555\n",
      "Generation 57 - Current best internal CV score: -0.4331324210994555\n",
      "Generation 58 - Current best internal CV score: -0.4331324210994555\n",
      "Generation 59 - Current best internal CV score: -0.43295631866115547\n",
      "Generation 60 - Current best internal CV score: -0.43295631866115547\n",
      "Generation 61 - Current best internal CV score: -0.43295631866115547\n",
      "Generation 62 - Current best internal CV score: -0.43295631866115547\n",
      "Generation 63 - Current best internal CV score: -0.43295631866115547\n",
      "Generation 64 - Current best internal CV score: -0.43295631866115547\n",
      "Generation 65 - Current best internal CV score: -0.43295631866115547\n",
      "Generation 66 - Current best internal CV score: -0.43295631866115547\n",
      "Generation 67 - Current best internal CV score: -0.43295631866115547\n",
      "Generation 68 - Current best internal CV score: -0.43295631866115547\n",
      "Generation 69 - Current best internal CV score: -0.43295631866115547\n",
      "Generation 70 - Current best internal CV score: -0.43295631866115547\n",
      "Generation 71 - Current best internal CV score: -0.43292357606436543\n",
      "Generation 72 - Current best internal CV score: -0.43292357606436543\n",
      "Generation 73 - Current best internal CV score: -0.43292357606436543\n",
      "Generation 74 - Current best internal CV score: -0.43292357606436543\n",
      "\n",
      "\n",
      "TPOT closed during evaluation in one generation.\n",
      "WARNING: TPOT may not provide a good pipeline if TPOT is stopped/interrupted in a early generation.\n",
      "\n",
      "\n",
      "TPOT closed prematurely. Will use the current best pipeline.\n",
      "\n",
      "Best pipeline: GradientBoostingRegressor(CombineDFs(CombineDFs(input_matrix, CombineDFs(input_matrix, input_matrix)), PCA(input_matrix, iterated_power=4, svd_solver=randomized)), alpha=0.9, learning_rate=0.1, loss=huber, max_depth=8, max_features=0.5, min_samples_leaf=12, min_samples_split=14, n_estimators=100, subsample=1.0)\n"
     ]
    },
    {
     "data": {
      "text/plain": [
       "TPOTRegressor(config_dict=None, crossover_rate=0.1, cv=10,\n",
       "       disable_update_check=False, early_stop=None, generations=200,\n",
       "       max_eval_time_mins=5, max_time_mins=None, memory=None,\n",
       "       mutation_rate=0.9, n_jobs=-1, offspring_size=None,\n",
       "       periodic_checkpoint_folder=None, population_size=100,\n",
       "       random_state=None, scoring='neg_mean_squared_error', subsample=1.0,\n",
       "       template='RandomTree', use_dask=False, verbosity=2,\n",
       "       warm_start=False)"
      ]
     },
     "execution_count": 8,
     "metadata": {},
     "output_type": "execute_result"
    }
   ],
   "source": [
    "tpot.fit(X_train, y_train)"
   ]
  },
  {
   "cell_type": "code",
   "execution_count": 47,
   "metadata": {},
   "outputs": [
    {
     "data": {
      "text/plain": [
       "-0.4385647602212293"
      ]
     },
     "execution_count": 47,
     "metadata": {},
     "output_type": "execute_result"
    }
   ],
   "source": [
    "tpot.score(X_test, y_test)"
   ]
  },
  {
   "cell_type": "code",
   "execution_count": null,
   "metadata": {},
   "outputs": [],
   "source": []
  },
  {
   "cell_type": "code",
   "execution_count": 10,
   "metadata": {},
   "outputs": [],
   "source": [
    "tpot.export('tpot_pipeline_200gen.py')"
   ]
  },
  {
   "cell_type": "code",
   "execution_count": null,
   "metadata": {},
   "outputs": [],
   "source": []
  }
 ],
 "metadata": {
  "kernelspec": {
   "display_name": "Python 3",
   "language": "python",
   "name": "python3"
  },
  "language_info": {
   "codemirror_mode": {
    "name": "ipython",
    "version": 3
   },
   "file_extension": ".py",
   "mimetype": "text/x-python",
   "name": "python",
   "nbconvert_exporter": "python",
   "pygments_lexer": "ipython3",
   "version": "3.6.5"
  }
 },
 "nbformat": 4,
 "nbformat_minor": 2
}
