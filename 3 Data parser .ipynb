{
 "cells": [
  {
   "cell_type": "code",
   "execution_count": 1,
   "metadata": {},
   "outputs": [],
   "source": [
    "import pandas as pd\n",
    "import numpy as np\n",
    "import re"
   ]
  },
  {
   "cell_type": "code",
   "execution_count": 2,
   "metadata": {},
   "outputs": [],
   "source": [
    "mmt = pd.read_csv('data/mmt_initial_preparation_merged.csv')"
   ]
  },
  {
   "cell_type": "code",
   "execution_count": 3,
   "metadata": {},
   "outputs": [
    {
     "data": {
      "text/html": [
       "<div>\n",
       "<style scoped>\n",
       "    .dataframe tbody tr th:only-of-type {\n",
       "        vertical-align: middle;\n",
       "    }\n",
       "\n",
       "    .dataframe tbody tr th {\n",
       "        vertical-align: top;\n",
       "    }\n",
       "\n",
       "    .dataframe thead th {\n",
       "        text-align: right;\n",
       "    }\n",
       "</style>\n",
       "<table border=\"1\" class=\"dataframe\">\n",
       "  <thead>\n",
       "    <tr style=\"text-align: right;\">\n",
       "      <th></th>\n",
       "      <th>belongs_to_collection</th>\n",
       "      <th>budget</th>\n",
       "      <th>genres</th>\n",
       "      <th>imdb_id</th>\n",
       "      <th>original_language</th>\n",
       "      <th>popularity</th>\n",
       "      <th>production_companies</th>\n",
       "      <th>production_countries</th>\n",
       "      <th>release_date</th>\n",
       "      <th>revenue</th>\n",
       "      <th>runtime</th>\n",
       "      <th>spoken_languages</th>\n",
       "      <th>words_in_title</th>\n",
       "      <th>words_in_original_title</th>\n",
       "      <th>numVotes</th>\n",
       "      <th>averageRating</th>\n",
       "      <th>directors</th>\n",
       "      <th>writers</th>\n",
       "    </tr>\n",
       "  </thead>\n",
       "  <tbody>\n",
       "    <tr>\n",
       "      <th>0</th>\n",
       "      <td>{'id': 10194, 'name': 'Toy Story Collection', ...</td>\n",
       "      <td>30000000</td>\n",
       "      <td>[{'id': 16, 'name': 'Animation'}, {'id': 35, '...</td>\n",
       "      <td>tt0114709</td>\n",
       "      <td>en</td>\n",
       "      <td>21.946943</td>\n",
       "      <td>[{'name': 'Pixar Animation Studios', 'id': 3}]</td>\n",
       "      <td>[{'iso_3166_1': 'US', 'name': 'United States o...</td>\n",
       "      <td>1995-10-30</td>\n",
       "      <td>373554033</td>\n",
       "      <td>81.0</td>\n",
       "      <td>[{'iso_639_1': 'en', 'name': 'English'}]</td>\n",
       "      <td>2</td>\n",
       "      <td>2</td>\n",
       "      <td>761501</td>\n",
       "      <td>8.3</td>\n",
       "      <td>nm0005124</td>\n",
       "      <td>nm0005124,nm0230032,nm0004056,nm0710020,nm0923...</td>\n",
       "    </tr>\n",
       "    <tr>\n",
       "      <th>1</th>\n",
       "      <td>0</td>\n",
       "      <td>65000000</td>\n",
       "      <td>[{'id': 12, 'name': 'Adventure'}, {'id': 14, '...</td>\n",
       "      <td>tt0113497</td>\n",
       "      <td>en</td>\n",
       "      <td>17.015539</td>\n",
       "      <td>[{'name': 'TriStar Pictures', 'id': 559}, {'na...</td>\n",
       "      <td>[{'iso_3166_1': 'US', 'name': 'United States o...</td>\n",
       "      <td>1995-12-15</td>\n",
       "      <td>262797249</td>\n",
       "      <td>104.0</td>\n",
       "      <td>[{'iso_639_1': 'en', 'name': 'English'}, {'iso...</td>\n",
       "      <td>1</td>\n",
       "      <td>1</td>\n",
       "      <td>260244</td>\n",
       "      <td>6.9</td>\n",
       "      <td>nm0002653</td>\n",
       "      <td>nm0378144,nm0852430,nm0833164,nm0885575</td>\n",
       "    </tr>\n",
       "    <tr>\n",
       "      <th>2</th>\n",
       "      <td>0</td>\n",
       "      <td>16000000</td>\n",
       "      <td>[{'id': 35, 'name': 'Comedy'}, {'id': 18, 'nam...</td>\n",
       "      <td>tt0114885</td>\n",
       "      <td>en</td>\n",
       "      <td>3.859495</td>\n",
       "      <td>[{'name': 'Twentieth Century Fox Film Corporat...</td>\n",
       "      <td>[{'iso_3166_1': 'US', 'name': 'United States o...</td>\n",
       "      <td>1995-12-22</td>\n",
       "      <td>81452156</td>\n",
       "      <td>127.0</td>\n",
       "      <td>[{'iso_639_1': 'en', 'name': 'English'}]</td>\n",
       "      <td>3</td>\n",
       "      <td>3</td>\n",
       "      <td>8483</td>\n",
       "      <td>5.8</td>\n",
       "      <td>nm0001845</td>\n",
       "      <td>nm0573334,nm0060103</td>\n",
       "    </tr>\n",
       "    <tr>\n",
       "      <th>3</th>\n",
       "      <td>0</td>\n",
       "      <td>60000000</td>\n",
       "      <td>[{'id': 28, 'name': 'Action'}, {'id': 80, 'nam...</td>\n",
       "      <td>tt0113277</td>\n",
       "      <td>en</td>\n",
       "      <td>17.924927</td>\n",
       "      <td>[{'name': 'Regency Enterprises', 'id': 508}, {...</td>\n",
       "      <td>[{'iso_3166_1': 'US', 'name': 'United States o...</td>\n",
       "      <td>1995-12-15</td>\n",
       "      <td>187436818</td>\n",
       "      <td>170.0</td>\n",
       "      <td>[{'iso_639_1': 'en', 'name': 'English'}, {'iso...</td>\n",
       "      <td>1</td>\n",
       "      <td>1</td>\n",
       "      <td>508869</td>\n",
       "      <td>8.2</td>\n",
       "      <td>nm0000520</td>\n",
       "      <td>nm0000520</td>\n",
       "    </tr>\n",
       "    <tr>\n",
       "      <th>4</th>\n",
       "      <td>0</td>\n",
       "      <td>35000000</td>\n",
       "      <td>[{'id': 28, 'name': 'Action'}, {'id': 12, 'nam...</td>\n",
       "      <td>tt0114576</td>\n",
       "      <td>en</td>\n",
       "      <td>5.231580</td>\n",
       "      <td>[{'name': 'Universal Pictures', 'id': 33}, {'n...</td>\n",
       "      <td>[{'iso_3166_1': 'US', 'name': 'United States o...</td>\n",
       "      <td>1995-12-22</td>\n",
       "      <td>64350171</td>\n",
       "      <td>106.0</td>\n",
       "      <td>[{'iso_639_1': 'en', 'name': 'English'}]</td>\n",
       "      <td>2</td>\n",
       "      <td>2</td>\n",
       "      <td>29156</td>\n",
       "      <td>5.7</td>\n",
       "      <td>nm0001382</td>\n",
       "      <td>nm0049945,nm0704164</td>\n",
       "    </tr>\n",
       "  </tbody>\n",
       "</table>\n",
       "</div>"
      ],
      "text/plain": [
       "                               belongs_to_collection    budget  \\\n",
       "0  {'id': 10194, 'name': 'Toy Story Collection', ...  30000000   \n",
       "1                                                  0  65000000   \n",
       "2                                                  0  16000000   \n",
       "3                                                  0  60000000   \n",
       "4                                                  0  35000000   \n",
       "\n",
       "                                              genres    imdb_id  \\\n",
       "0  [{'id': 16, 'name': 'Animation'}, {'id': 35, '...  tt0114709   \n",
       "1  [{'id': 12, 'name': 'Adventure'}, {'id': 14, '...  tt0113497   \n",
       "2  [{'id': 35, 'name': 'Comedy'}, {'id': 18, 'nam...  tt0114885   \n",
       "3  [{'id': 28, 'name': 'Action'}, {'id': 80, 'nam...  tt0113277   \n",
       "4  [{'id': 28, 'name': 'Action'}, {'id': 12, 'nam...  tt0114576   \n",
       "\n",
       "  original_language  popularity  \\\n",
       "0                en   21.946943   \n",
       "1                en   17.015539   \n",
       "2                en    3.859495   \n",
       "3                en   17.924927   \n",
       "4                en    5.231580   \n",
       "\n",
       "                                production_companies  \\\n",
       "0     [{'name': 'Pixar Animation Studios', 'id': 3}]   \n",
       "1  [{'name': 'TriStar Pictures', 'id': 559}, {'na...   \n",
       "2  [{'name': 'Twentieth Century Fox Film Corporat...   \n",
       "3  [{'name': 'Regency Enterprises', 'id': 508}, {...   \n",
       "4  [{'name': 'Universal Pictures', 'id': 33}, {'n...   \n",
       "\n",
       "                                production_countries release_date    revenue  \\\n",
       "0  [{'iso_3166_1': 'US', 'name': 'United States o...   1995-10-30  373554033   \n",
       "1  [{'iso_3166_1': 'US', 'name': 'United States o...   1995-12-15  262797249   \n",
       "2  [{'iso_3166_1': 'US', 'name': 'United States o...   1995-12-22   81452156   \n",
       "3  [{'iso_3166_1': 'US', 'name': 'United States o...   1995-12-15  187436818   \n",
       "4  [{'iso_3166_1': 'US', 'name': 'United States o...   1995-12-22   64350171   \n",
       "\n",
       "   runtime                                   spoken_languages  words_in_title  \\\n",
       "0     81.0           [{'iso_639_1': 'en', 'name': 'English'}]               2   \n",
       "1    104.0  [{'iso_639_1': 'en', 'name': 'English'}, {'iso...               1   \n",
       "2    127.0           [{'iso_639_1': 'en', 'name': 'English'}]               3   \n",
       "3    170.0  [{'iso_639_1': 'en', 'name': 'English'}, {'iso...               1   \n",
       "4    106.0           [{'iso_639_1': 'en', 'name': 'English'}]               2   \n",
       "\n",
       "   words_in_original_title  numVotes  averageRating  directors  \\\n",
       "0                        2    761501            8.3  nm0005124   \n",
       "1                        1    260244            6.9  nm0002653   \n",
       "2                        3      8483            5.8  nm0001845   \n",
       "3                        1    508869            8.2  nm0000520   \n",
       "4                        2     29156            5.7  nm0001382   \n",
       "\n",
       "                                             writers  \n",
       "0  nm0005124,nm0230032,nm0004056,nm0710020,nm0923...  \n",
       "1            nm0378144,nm0852430,nm0833164,nm0885575  \n",
       "2                                nm0573334,nm0060103  \n",
       "3                                          nm0000520  \n",
       "4                                nm0049945,nm0704164  "
      ]
     },
     "execution_count": 3,
     "metadata": {},
     "output_type": "execute_result"
    }
   ],
   "source": [
    "mmt.head()"
   ]
  },
  {
   "cell_type": "code",
   "execution_count": 4,
   "metadata": {},
   "outputs": [],
   "source": [
    "def get_number_of_json(name):\n",
    "    mmt['number_of_'+name]= mmt[name].apply(lambda x: len(x.split(\"},\")))\n",
    "    mmt.drop(name, axis=1, inplace=True)"
   ]
  },
  {
   "cell_type": "markdown",
   "metadata": {},
   "source": [
    "Parsowanie danych json"
   ]
  },
  {
   "cell_type": "code",
   "execution_count": 5,
   "metadata": {},
   "outputs": [],
   "source": [
    "def parse_json(name, regex):\n",
    "    cols = mmt[name]\n",
    "    cols = cols.apply(pd.Series)\n",
    "    cols = cols[0].str.split(\"},\", expand=True)\n",
    "    print(\"In one movie there was maximum: {} {}\".format(len(cols.columns), name))\n",
    "    for i in range(0,len(cols.columns)):\n",
    "        cols[i] = cols[i].str.extract(regex)\n",
    "        #mmt[name+str(i)] = cols[i] \n",
    "    # To know unique values\n",
    "    a = cols.values.tolist()\n",
    "    a = set([item for sublist in a for item in sublist])\n",
    "    return(a)\n",
    "    print(\"Number of unique {} : {}\".format(name, len(a)-1)) \n",
    "    #mmt.drop(name, axis=1, inplace=True)"
   ]
  },
  {
   "cell_type": "code",
   "execution_count": 6,
   "metadata": {},
   "outputs": [
    {
     "name": "stdout",
     "output_type": "stream",
     "text": [
      "In one movie there was maximum: 8 genres\n"
     ]
    },
    {
     "data": {
      "text/plain": [
       "{'Action',\n",
       " 'Adventure',\n",
       " 'Animation',\n",
       " 'Comedy',\n",
       " 'Crime',\n",
       " 'Documentary',\n",
       " 'Drama',\n",
       " 'Family',\n",
       " 'Fantasy',\n",
       " 'Foreign',\n",
       " 'History',\n",
       " 'Horror',\n",
       " 'Music',\n",
       " 'Mystery',\n",
       " 'Romance',\n",
       " 'Science Fiction',\n",
       " 'TV Movie',\n",
       " 'Thriller',\n",
       " 'War',\n",
       " 'Western',\n",
       " nan}"
      ]
     },
     "execution_count": 6,
     "metadata": {},
     "output_type": "execute_result"
    }
   ],
   "source": [
    "parse_json('genres', \"'name': '([a-zA-Z ]+)\")\n",
    "#parse_json('belongs_to_collection', \"'name': '([a-zA-Z ]+)\")\n",
    "#parse_json('production_companies', \"'name': '([a-zA-Z ]+)\")\n",
    "#parse_json('production_countries', \"'iso_3166_1': '([a-zA-Z ]+)\")\n",
    "#parse_json('spoken_languages', \"'iso_639_1': '([a-zA-Z ]+)\")"
   ]
  },
  {
   "cell_type": "code",
   "execution_count": 7,
   "metadata": {},
   "outputs": [],
   "source": [
    "def parse_genres():\n",
    "    genres = {'Action', 'Adventure', 'Animation', 'Comedy','Crime','Documentary','Drama','Family','Fantasy','Foreign','History','Horror','Music','Mystery','Romance','Science Fiction','TV Movie','Thriller','War','Western' }\n",
    "    for g in genres:\n",
    "        mmt[g] = mmt['genres'].apply(lambda x: 1 if g in str(x) else 0 )"
   ]
  },
  {
   "cell_type": "code",
   "execution_count": 8,
   "metadata": {},
   "outputs": [],
   "source": [
    "parse_genres()"
   ]
  },
  {
   "cell_type": "code",
   "execution_count": 9,
   "metadata": {},
   "outputs": [],
   "source": [
    "get_number_of_json('production_companies')\n",
    "get_number_of_json('production_countries')\n",
    "get_number_of_json('spoken_languages')"
   ]
  },
  {
   "cell_type": "code",
   "execution_count": 10,
   "metadata": {},
   "outputs": [],
   "source": [
    "def get_number_of_list(name):\n",
    "    mmt['number_of_'+name]= mmt[name].apply(lambda x: len(x.split(\",\")))\n",
    "    mmt.drop(name, axis=1, inplace=True)"
   ]
  },
  {
   "cell_type": "code",
   "execution_count": 11,
   "metadata": {},
   "outputs": [],
   "source": [
    "def parse_list(name):\n",
    "    cols = mmt[name]\n",
    "    cols = cols.apply(pd.Series)\n",
    "    cols = cols[0].str.split(\",\", expand=True)\n",
    "    print(\"In one movie there was maximum: {} {}\".format(len(cols.columns), name))\n",
    "    for i in range(0,len(cols.columns)):\n",
    "        mmt[name+str(i)] = cols[i] \n",
    "     #To know unique values\n",
    "    a = cols.values.tolist()\n",
    "    a = set([item for sublist in a for item in sublist])\n",
    "    print(\"Number of unique {}: {}\".format(name, len(a)-1)) \n",
    "    mmt.drop(name, axis=1, inplace=True)"
   ]
  },
  {
   "cell_type": "code",
   "execution_count": 12,
   "metadata": {},
   "outputs": [],
   "source": [
    "get_number_of_list('directors')\n",
    "get_number_of_list('writers')"
   ]
  },
  {
   "cell_type": "code",
   "execution_count": 13,
   "metadata": {},
   "outputs": [],
   "source": [
    "mmt.to_csv('data/mmt_parsed.csv', index=False)"
   ]
  },
  {
   "cell_type": "code",
   "execution_count": 14,
   "metadata": {},
   "outputs": [
    {
     "data": {
      "text/plain": [
       "3949"
      ]
     },
     "execution_count": 14,
     "metadata": {},
     "output_type": "execute_result"
    }
   ],
   "source": [
    "len(mmt[mmt['belongs_to_collection'] == '0'])"
   ]
  },
  {
   "cell_type": "code",
   "execution_count": null,
   "metadata": {},
   "outputs": [],
   "source": []
  }
 ],
 "metadata": {
  "kernelspec": {
   "display_name": "Python 3",
   "language": "python",
   "name": "python3"
  },
  "language_info": {
   "codemirror_mode": {
    "name": "ipython",
    "version": 3
   },
   "file_extension": ".py",
   "mimetype": "text/x-python",
   "name": "python",
   "nbconvert_exporter": "python",
   "pygments_lexer": "ipython3",
   "version": "3.6.5"
  },
  "widgets": {
   "application/vnd.jupyter.widget-state+json": {
    "state": {},
    "version_major": 2,
    "version_minor": 0
   }
  }
 },
 "nbformat": 4,
 "nbformat_minor": 2
}
