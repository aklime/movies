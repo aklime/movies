{
 "cells": [
  {
   "cell_type": "code",
   "execution_count": 1,
   "metadata": {},
   "outputs": [],
   "source": [
    "import pandas as pd\n",
    "import numpy as np"
   ]
  },
  {
   "cell_type": "code",
   "execution_count": 2,
   "metadata": {},
   "outputs": [],
   "source": [
    "mmt = pd.read_csv('data/mmt_initial_preparation.csv')"
   ]
  },
  {
   "cell_type": "code",
   "execution_count": 3,
   "metadata": {},
   "outputs": [],
   "source": [
    "ratings = pd.read_csv('data/imdb_ratings.csv')"
   ]
  },
  {
   "cell_type": "code",
   "execution_count": 4,
   "metadata": {},
   "outputs": [
    {
     "data": {
      "text/html": [
       "<div>\n",
       "<style scoped>\n",
       "    .dataframe tbody tr th:only-of-type {\n",
       "        vertical-align: middle;\n",
       "    }\n",
       "\n",
       "    .dataframe tbody tr th {\n",
       "        vertical-align: top;\n",
       "    }\n",
       "\n",
       "    .dataframe thead th {\n",
       "        text-align: right;\n",
       "    }\n",
       "</style>\n",
       "<table border=\"1\" class=\"dataframe\">\n",
       "  <thead>\n",
       "    <tr style=\"text-align: right;\">\n",
       "      <th></th>\n",
       "      <th>tconst</th>\n",
       "      <th>numVotes</th>\n",
       "      <th>averageRating</th>\n",
       "    </tr>\n",
       "  </thead>\n",
       "  <tbody>\n",
       "    <tr>\n",
       "      <th>0</th>\n",
       "      <td>tt0114709</td>\n",
       "      <td>761501</td>\n",
       "      <td>8.3</td>\n",
       "    </tr>\n",
       "    <tr>\n",
       "      <th>1</th>\n",
       "      <td>tt0113497</td>\n",
       "      <td>260244</td>\n",
       "      <td>6.9</td>\n",
       "    </tr>\n",
       "    <tr>\n",
       "      <th>2</th>\n",
       "      <td>tt0113228</td>\n",
       "      <td>21913</td>\n",
       "      <td>6.6</td>\n",
       "    </tr>\n",
       "    <tr>\n",
       "      <th>3</th>\n",
       "      <td>tt0114885</td>\n",
       "      <td>8483</td>\n",
       "      <td>5.8</td>\n",
       "    </tr>\n",
       "    <tr>\n",
       "      <th>4</th>\n",
       "      <td>tt0113041</td>\n",
       "      <td>30470</td>\n",
       "      <td>6.0</td>\n",
       "    </tr>\n",
       "  </tbody>\n",
       "</table>\n",
       "</div>"
      ],
      "text/plain": [
       "      tconst  numVotes  averageRating\n",
       "0  tt0114709    761501            8.3\n",
       "1  tt0113497    260244            6.9\n",
       "2  tt0113228     21913            6.6\n",
       "3  tt0114885      8483            5.8\n",
       "4  tt0113041     30470            6.0"
      ]
     },
     "execution_count": 4,
     "metadata": {},
     "output_type": "execute_result"
    }
   ],
   "source": [
    "ratings.head()"
   ]
  },
  {
   "cell_type": "code",
   "execution_count": 5,
   "metadata": {},
   "outputs": [
    {
     "data": {
      "text/html": [
       "<div>\n",
       "<style scoped>\n",
       "    .dataframe tbody tr th:only-of-type {\n",
       "        vertical-align: middle;\n",
       "    }\n",
       "\n",
       "    .dataframe tbody tr th {\n",
       "        vertical-align: top;\n",
       "    }\n",
       "\n",
       "    .dataframe thead th {\n",
       "        text-align: right;\n",
       "    }\n",
       "</style>\n",
       "<table border=\"1\" class=\"dataframe\">\n",
       "  <thead>\n",
       "    <tr style=\"text-align: right;\">\n",
       "      <th></th>\n",
       "      <th>tconst</th>\n",
       "      <th>numVotes</th>\n",
       "      <th>averageRating</th>\n",
       "    </tr>\n",
       "  </thead>\n",
       "  <tbody>\n",
       "    <tr>\n",
       "      <th>9977</th>\n",
       "      <td>tt0371724</td>\n",
       "      <td>174231</td>\n",
       "      <td>6.8</td>\n",
       "    </tr>\n",
       "  </tbody>\n",
       "</table>\n",
       "</div>"
      ],
      "text/plain": [
       "         tconst  numVotes  averageRating\n",
       "9977  tt0371724    174231            6.8"
      ]
     },
     "execution_count": 5,
     "metadata": {},
     "output_type": "execute_result"
    }
   ],
   "source": [
    "ratings[ratings['tconst'] == 'tt0371724']"
   ]
  },
  {
   "cell_type": "markdown",
   "metadata": {},
   "source": [
    "Połączenie movies metadata z ocenami z imdb."
   ]
  },
  {
   "cell_type": "code",
   "execution_count": 6,
   "metadata": {},
   "outputs": [],
   "source": [
    "mmt = mmt.merge(ratings, left_on='imdb_id', right_on='tconst', how='left')"
   ]
  },
  {
   "cell_type": "markdown",
   "metadata": {},
   "source": [
    "Oceny tak jak powyżej- jest ok."
   ]
  },
  {
   "cell_type": "code",
   "execution_count": 7,
   "metadata": {},
   "outputs": [
    {
     "data": {
      "text/plain": [
       "2496    6.8\n",
       "Name: averageRating, dtype: float64"
      ]
     },
     "execution_count": 7,
     "metadata": {},
     "output_type": "execute_result"
    }
   ],
   "source": [
    " mmt[mmt['imdb_id'] == 'tt0371724']['averageRating']"
   ]
  },
  {
   "cell_type": "code",
   "execution_count": 8,
   "metadata": {},
   "outputs": [
    {
     "data": {
      "text/plain": [
       "2496    174231\n",
       "Name: numVotes, dtype: int64"
      ]
     },
     "execution_count": 8,
     "metadata": {},
     "output_type": "execute_result"
    }
   ],
   "source": [
    "mmt[mmt['imdb_id'] == 'tt0371724']['numVotes']"
   ]
  },
  {
   "cell_type": "code",
   "execution_count": 9,
   "metadata": {},
   "outputs": [
    {
     "data": {
      "text/html": [
       "<div>\n",
       "<style scoped>\n",
       "    .dataframe tbody tr th:only-of-type {\n",
       "        vertical-align: middle;\n",
       "    }\n",
       "\n",
       "    .dataframe tbody tr th {\n",
       "        vertical-align: top;\n",
       "    }\n",
       "\n",
       "    .dataframe thead th {\n",
       "        text-align: right;\n",
       "    }\n",
       "</style>\n",
       "<table border=\"1\" class=\"dataframe\">\n",
       "  <thead>\n",
       "    <tr style=\"text-align: right;\">\n",
       "      <th></th>\n",
       "      <th>belongs_to_collection</th>\n",
       "      <th>budget</th>\n",
       "      <th>genres</th>\n",
       "      <th>imdb_id</th>\n",
       "      <th>original_language</th>\n",
       "      <th>popularity</th>\n",
       "      <th>production_companies</th>\n",
       "      <th>production_countries</th>\n",
       "      <th>release_date</th>\n",
       "      <th>revenue</th>\n",
       "      <th>runtime</th>\n",
       "      <th>spoken_languages</th>\n",
       "      <th>words_in_title</th>\n",
       "      <th>words_in_original_title</th>\n",
       "      <th>tconst</th>\n",
       "      <th>numVotes</th>\n",
       "      <th>averageRating</th>\n",
       "    </tr>\n",
       "  </thead>\n",
       "  <tbody>\n",
       "    <tr>\n",
       "      <th>0</th>\n",
       "      <td>{'id': 10194, 'name': 'Toy Story Collection', ...</td>\n",
       "      <td>30000000</td>\n",
       "      <td>[{'id': 16, 'name': 'Animation'}, {'id': 35, '...</td>\n",
       "      <td>tt0114709</td>\n",
       "      <td>en</td>\n",
       "      <td>21.946943</td>\n",
       "      <td>[{'name': 'Pixar Animation Studios', 'id': 3}]</td>\n",
       "      <td>[{'iso_3166_1': 'US', 'name': 'United States o...</td>\n",
       "      <td>1995-10-30</td>\n",
       "      <td>373554033</td>\n",
       "      <td>81.0</td>\n",
       "      <td>[{'iso_639_1': 'en', 'name': 'English'}]</td>\n",
       "      <td>2</td>\n",
       "      <td>2</td>\n",
       "      <td>tt0114709</td>\n",
       "      <td>761501</td>\n",
       "      <td>8.3</td>\n",
       "    </tr>\n",
       "    <tr>\n",
       "      <th>1</th>\n",
       "      <td>0</td>\n",
       "      <td>65000000</td>\n",
       "      <td>[{'id': 12, 'name': 'Adventure'}, {'id': 14, '...</td>\n",
       "      <td>tt0113497</td>\n",
       "      <td>en</td>\n",
       "      <td>17.015539</td>\n",
       "      <td>[{'name': 'TriStar Pictures', 'id': 559}, {'na...</td>\n",
       "      <td>[{'iso_3166_1': 'US', 'name': 'United States o...</td>\n",
       "      <td>1995-12-15</td>\n",
       "      <td>262797249</td>\n",
       "      <td>104.0</td>\n",
       "      <td>[{'iso_639_1': 'en', 'name': 'English'}, {'iso...</td>\n",
       "      <td>1</td>\n",
       "      <td>1</td>\n",
       "      <td>tt0113497</td>\n",
       "      <td>260244</td>\n",
       "      <td>6.9</td>\n",
       "    </tr>\n",
       "    <tr>\n",
       "      <th>2</th>\n",
       "      <td>0</td>\n",
       "      <td>16000000</td>\n",
       "      <td>[{'id': 35, 'name': 'Comedy'}, {'id': 18, 'nam...</td>\n",
       "      <td>tt0114885</td>\n",
       "      <td>en</td>\n",
       "      <td>3.859495</td>\n",
       "      <td>[{'name': 'Twentieth Century Fox Film Corporat...</td>\n",
       "      <td>[{'iso_3166_1': 'US', 'name': 'United States o...</td>\n",
       "      <td>1995-12-22</td>\n",
       "      <td>81452156</td>\n",
       "      <td>127.0</td>\n",
       "      <td>[{'iso_639_1': 'en', 'name': 'English'}]</td>\n",
       "      <td>3</td>\n",
       "      <td>3</td>\n",
       "      <td>tt0114885</td>\n",
       "      <td>8483</td>\n",
       "      <td>5.8</td>\n",
       "    </tr>\n",
       "    <tr>\n",
       "      <th>3</th>\n",
       "      <td>0</td>\n",
       "      <td>60000000</td>\n",
       "      <td>[{'id': 28, 'name': 'Action'}, {'id': 80, 'nam...</td>\n",
       "      <td>tt0113277</td>\n",
       "      <td>en</td>\n",
       "      <td>17.924927</td>\n",
       "      <td>[{'name': 'Regency Enterprises', 'id': 508}, {...</td>\n",
       "      <td>[{'iso_3166_1': 'US', 'name': 'United States o...</td>\n",
       "      <td>1995-12-15</td>\n",
       "      <td>187436818</td>\n",
       "      <td>170.0</td>\n",
       "      <td>[{'iso_639_1': 'en', 'name': 'English'}, {'iso...</td>\n",
       "      <td>1</td>\n",
       "      <td>1</td>\n",
       "      <td>tt0113277</td>\n",
       "      <td>508869</td>\n",
       "      <td>8.2</td>\n",
       "    </tr>\n",
       "    <tr>\n",
       "      <th>4</th>\n",
       "      <td>0</td>\n",
       "      <td>35000000</td>\n",
       "      <td>[{'id': 28, 'name': 'Action'}, {'id': 12, 'nam...</td>\n",
       "      <td>tt0114576</td>\n",
       "      <td>en</td>\n",
       "      <td>5.231580</td>\n",
       "      <td>[{'name': 'Universal Pictures', 'id': 33}, {'n...</td>\n",
       "      <td>[{'iso_3166_1': 'US', 'name': 'United States o...</td>\n",
       "      <td>1995-12-22</td>\n",
       "      <td>64350171</td>\n",
       "      <td>106.0</td>\n",
       "      <td>[{'iso_639_1': 'en', 'name': 'English'}]</td>\n",
       "      <td>2</td>\n",
       "      <td>2</td>\n",
       "      <td>tt0114576</td>\n",
       "      <td>29156</td>\n",
       "      <td>5.7</td>\n",
       "    </tr>\n",
       "  </tbody>\n",
       "</table>\n",
       "</div>"
      ],
      "text/plain": [
       "                               belongs_to_collection    budget  \\\n",
       "0  {'id': 10194, 'name': 'Toy Story Collection', ...  30000000   \n",
       "1                                                  0  65000000   \n",
       "2                                                  0  16000000   \n",
       "3                                                  0  60000000   \n",
       "4                                                  0  35000000   \n",
       "\n",
       "                                              genres    imdb_id  \\\n",
       "0  [{'id': 16, 'name': 'Animation'}, {'id': 35, '...  tt0114709   \n",
       "1  [{'id': 12, 'name': 'Adventure'}, {'id': 14, '...  tt0113497   \n",
       "2  [{'id': 35, 'name': 'Comedy'}, {'id': 18, 'nam...  tt0114885   \n",
       "3  [{'id': 28, 'name': 'Action'}, {'id': 80, 'nam...  tt0113277   \n",
       "4  [{'id': 28, 'name': 'Action'}, {'id': 12, 'nam...  tt0114576   \n",
       "\n",
       "  original_language  popularity  \\\n",
       "0                en   21.946943   \n",
       "1                en   17.015539   \n",
       "2                en    3.859495   \n",
       "3                en   17.924927   \n",
       "4                en    5.231580   \n",
       "\n",
       "                                production_companies  \\\n",
       "0     [{'name': 'Pixar Animation Studios', 'id': 3}]   \n",
       "1  [{'name': 'TriStar Pictures', 'id': 559}, {'na...   \n",
       "2  [{'name': 'Twentieth Century Fox Film Corporat...   \n",
       "3  [{'name': 'Regency Enterprises', 'id': 508}, {...   \n",
       "4  [{'name': 'Universal Pictures', 'id': 33}, {'n...   \n",
       "\n",
       "                                production_countries release_date    revenue  \\\n",
       "0  [{'iso_3166_1': 'US', 'name': 'United States o...   1995-10-30  373554033   \n",
       "1  [{'iso_3166_1': 'US', 'name': 'United States o...   1995-12-15  262797249   \n",
       "2  [{'iso_3166_1': 'US', 'name': 'United States o...   1995-12-22   81452156   \n",
       "3  [{'iso_3166_1': 'US', 'name': 'United States o...   1995-12-15  187436818   \n",
       "4  [{'iso_3166_1': 'US', 'name': 'United States o...   1995-12-22   64350171   \n",
       "\n",
       "   runtime                                   spoken_languages  words_in_title  \\\n",
       "0     81.0           [{'iso_639_1': 'en', 'name': 'English'}]               2   \n",
       "1    104.0  [{'iso_639_1': 'en', 'name': 'English'}, {'iso...               1   \n",
       "2    127.0           [{'iso_639_1': 'en', 'name': 'English'}]               3   \n",
       "3    170.0  [{'iso_639_1': 'en', 'name': 'English'}, {'iso...               1   \n",
       "4    106.0           [{'iso_639_1': 'en', 'name': 'English'}]               2   \n",
       "\n",
       "   words_in_original_title     tconst  numVotes  averageRating  \n",
       "0                        2  tt0114709    761501            8.3  \n",
       "1                        1  tt0113497    260244            6.9  \n",
       "2                        3  tt0114885      8483            5.8  \n",
       "3                        1  tt0113277    508869            8.2  \n",
       "4                        2  tt0114576     29156            5.7  "
      ]
     },
     "execution_count": 9,
     "metadata": {},
     "output_type": "execute_result"
    }
   ],
   "source": [
    "mmt.head()"
   ]
  },
  {
   "cell_type": "code",
   "execution_count": 10,
   "metadata": {},
   "outputs": [
    {
     "name": "stdout",
     "output_type": "stream",
     "text": [
      "<class 'pandas.core.frame.DataFrame'>\n",
      "Int64Index: 5271 entries, 0 to 5270\n",
      "Data columns (total 17 columns):\n",
      "belongs_to_collection      5271 non-null object\n",
      "budget                     5271 non-null int64\n",
      "genres                     5271 non-null object\n",
      "imdb_id                    5271 non-null object\n",
      "original_language          5271 non-null object\n",
      "popularity                 5271 non-null float64\n",
      "production_companies       5271 non-null object\n",
      "production_countries       5271 non-null object\n",
      "release_date               5271 non-null object\n",
      "revenue                    5271 non-null int64\n",
      "runtime                    5271 non-null float64\n",
      "spoken_languages           5271 non-null object\n",
      "words_in_title             5271 non-null int64\n",
      "words_in_original_title    5271 non-null int64\n",
      "tconst                     5271 non-null object\n",
      "numVotes                   5271 non-null int64\n",
      "averageRating              5271 non-null float64\n",
      "dtypes: float64(3), int64(5), object(9)\n",
      "memory usage: 741.2+ KB\n"
     ]
    }
   ],
   "source": [
    "mmt.info()"
   ]
  },
  {
   "cell_type": "markdown",
   "metadata": {},
   "source": [
    "Usuwam dane filmy, które mają mniej niż 1000 wystawionych ocen."
   ]
  },
  {
   "cell_type": "code",
   "execution_count": 11,
   "metadata": {},
   "outputs": [],
   "source": [
    "mmt.drop(mmt[mmt['numVotes'] < 1000].index, axis=0, inplace = True)"
   ]
  },
  {
   "cell_type": "code",
   "execution_count": 12,
   "metadata": {},
   "outputs": [
    {
     "name": "stdout",
     "output_type": "stream",
     "text": [
      "<class 'pandas.core.frame.DataFrame'>\n",
      "Int64Index: 5154 entries, 0 to 5267\n",
      "Data columns (total 17 columns):\n",
      "belongs_to_collection      5154 non-null object\n",
      "budget                     5154 non-null int64\n",
      "genres                     5154 non-null object\n",
      "imdb_id                    5154 non-null object\n",
      "original_language          5154 non-null object\n",
      "popularity                 5154 non-null float64\n",
      "production_companies       5154 non-null object\n",
      "production_countries       5154 non-null object\n",
      "release_date               5154 non-null object\n",
      "revenue                    5154 non-null int64\n",
      "runtime                    5154 non-null float64\n",
      "spoken_languages           5154 non-null object\n",
      "words_in_title             5154 non-null int64\n",
      "words_in_original_title    5154 non-null int64\n",
      "tconst                     5154 non-null object\n",
      "numVotes                   5154 non-null int64\n",
      "averageRating              5154 non-null float64\n",
      "dtypes: float64(3), int64(5), object(9)\n",
      "memory usage: 724.8+ KB\n"
     ]
    }
   ],
   "source": [
    "mmt.info()"
   ]
  },
  {
   "cell_type": "markdown",
   "metadata": {},
   "source": [
    "Sprawdzam ile filmów nie ma revenue"
   ]
  },
  {
   "cell_type": "code",
   "execution_count": 13,
   "metadata": {},
   "outputs": [
    {
     "name": "stdout",
     "output_type": "stream",
     "text": [
      "Liczba wartości 'revenue' == 0: 0.\n",
      "Liczba wartości 'revenue' != 0: 5154.\n"
     ]
    }
   ],
   "source": [
    "print(\"Liczba wartości 'revenue' == 0: {}.\".format(len(mmt[mmt['revenue'] == 0])))\n",
    "print(\"Liczba wartości 'revenue' != 0: {}.\".format(len(mmt[mmt['revenue'] != 0])))"
   ]
  },
  {
   "cell_type": "markdown",
   "metadata": {},
   "source": [
    "Sprawdzam ile filmów nie należy do serii"
   ]
  },
  {
   "cell_type": "code",
   "execution_count": 14,
   "metadata": {},
   "outputs": [
    {
     "name": "stdout",
     "output_type": "stream",
     "text": [
      "Liczba wartości 'belongs_to_collection' == 0: 3949.\n",
      "Liczba wartości 'belongs_to_collection' != 0: 1205.\n"
     ]
    }
   ],
   "source": [
    "print(\"Liczba wartości 'belongs_to_collection' == 0: {}.\".format(len(mmt[mmt['belongs_to_collection'] == '0'])))\n",
    "print(\"Liczba wartości 'belongs_to_collection' != 0: {}.\".format(len(mmt[mmt['belongs_to_collection'] != '0'])))"
   ]
  },
  {
   "cell_type": "markdown",
   "metadata": {},
   "source": [
    "Dodawanie reżyserów i scenarzystów"
   ]
  },
  {
   "cell_type": "code",
   "execution_count": 15,
   "metadata": {},
   "outputs": [],
   "source": [
    "crew = pd.read_csv('data/imdb_crew.tsv', sep='\\t')"
   ]
  },
  {
   "cell_type": "code",
   "execution_count": 16,
   "metadata": {},
   "outputs": [
    {
     "data": {
      "text/html": [
       "<div>\n",
       "<style scoped>\n",
       "    .dataframe tbody tr th:only-of-type {\n",
       "        vertical-align: middle;\n",
       "    }\n",
       "\n",
       "    .dataframe tbody tr th {\n",
       "        vertical-align: top;\n",
       "    }\n",
       "\n",
       "    .dataframe thead th {\n",
       "        text-align: right;\n",
       "    }\n",
       "</style>\n",
       "<table border=\"1\" class=\"dataframe\">\n",
       "  <thead>\n",
       "    <tr style=\"text-align: right;\">\n",
       "      <th></th>\n",
       "      <th>tconst</th>\n",
       "      <th>directors</th>\n",
       "      <th>writers</th>\n",
       "    </tr>\n",
       "  </thead>\n",
       "  <tbody>\n",
       "    <tr>\n",
       "      <th>0</th>\n",
       "      <td>tt0000001</td>\n",
       "      <td>nm0005690</td>\n",
       "      <td>\\N</td>\n",
       "    </tr>\n",
       "    <tr>\n",
       "      <th>1</th>\n",
       "      <td>tt0000002</td>\n",
       "      <td>nm0721526</td>\n",
       "      <td>\\N</td>\n",
       "    </tr>\n",
       "    <tr>\n",
       "      <th>2</th>\n",
       "      <td>tt0000003</td>\n",
       "      <td>nm0721526</td>\n",
       "      <td>\\N</td>\n",
       "    </tr>\n",
       "    <tr>\n",
       "      <th>3</th>\n",
       "      <td>tt0000004</td>\n",
       "      <td>nm0721526</td>\n",
       "      <td>\\N</td>\n",
       "    </tr>\n",
       "    <tr>\n",
       "      <th>4</th>\n",
       "      <td>tt0000005</td>\n",
       "      <td>nm0005690</td>\n",
       "      <td>\\N</td>\n",
       "    </tr>\n",
       "  </tbody>\n",
       "</table>\n",
       "</div>"
      ],
      "text/plain": [
       "      tconst  directors writers\n",
       "0  tt0000001  nm0005690      \\N\n",
       "1  tt0000002  nm0721526      \\N\n",
       "2  tt0000003  nm0721526      \\N\n",
       "3  tt0000004  nm0721526      \\N\n",
       "4  tt0000005  nm0005690      \\N"
      ]
     },
     "execution_count": 16,
     "metadata": {},
     "output_type": "execute_result"
    }
   ],
   "source": [
    "crew.head()"
   ]
  },
  {
   "cell_type": "code",
   "execution_count": 17,
   "metadata": {},
   "outputs": [],
   "source": [
    "mmt = mmt.merge(crew, left_on='imdb_id', right_on='tconst', how='left')"
   ]
  },
  {
   "cell_type": "code",
   "execution_count": 18,
   "metadata": {},
   "outputs": [
    {
     "data": {
      "text/html": [
       "<div>\n",
       "<style scoped>\n",
       "    .dataframe tbody tr th:only-of-type {\n",
       "        vertical-align: middle;\n",
       "    }\n",
       "\n",
       "    .dataframe tbody tr th {\n",
       "        vertical-align: top;\n",
       "    }\n",
       "\n",
       "    .dataframe thead th {\n",
       "        text-align: right;\n",
       "    }\n",
       "</style>\n",
       "<table border=\"1\" class=\"dataframe\">\n",
       "  <thead>\n",
       "    <tr style=\"text-align: right;\">\n",
       "      <th></th>\n",
       "      <th>belongs_to_collection</th>\n",
       "      <th>budget</th>\n",
       "      <th>genres</th>\n",
       "      <th>imdb_id</th>\n",
       "      <th>original_language</th>\n",
       "      <th>popularity</th>\n",
       "      <th>production_companies</th>\n",
       "      <th>production_countries</th>\n",
       "      <th>release_date</th>\n",
       "      <th>revenue</th>\n",
       "      <th>runtime</th>\n",
       "      <th>spoken_languages</th>\n",
       "      <th>words_in_title</th>\n",
       "      <th>words_in_original_title</th>\n",
       "      <th>tconst_x</th>\n",
       "      <th>numVotes</th>\n",
       "      <th>averageRating</th>\n",
       "      <th>tconst_y</th>\n",
       "      <th>directors</th>\n",
       "      <th>writers</th>\n",
       "    </tr>\n",
       "  </thead>\n",
       "  <tbody>\n",
       "    <tr>\n",
       "      <th>0</th>\n",
       "      <td>{'id': 10194, 'name': 'Toy Story Collection', ...</td>\n",
       "      <td>30000000</td>\n",
       "      <td>[{'id': 16, 'name': 'Animation'}, {'id': 35, '...</td>\n",
       "      <td>tt0114709</td>\n",
       "      <td>en</td>\n",
       "      <td>21.946943</td>\n",
       "      <td>[{'name': 'Pixar Animation Studios', 'id': 3}]</td>\n",
       "      <td>[{'iso_3166_1': 'US', 'name': 'United States o...</td>\n",
       "      <td>1995-10-30</td>\n",
       "      <td>373554033</td>\n",
       "      <td>81.0</td>\n",
       "      <td>[{'iso_639_1': 'en', 'name': 'English'}]</td>\n",
       "      <td>2</td>\n",
       "      <td>2</td>\n",
       "      <td>tt0114709</td>\n",
       "      <td>761501</td>\n",
       "      <td>8.3</td>\n",
       "      <td>tt0114709</td>\n",
       "      <td>nm0005124</td>\n",
       "      <td>nm0005124,nm0230032,nm0004056,nm0710020,nm0923...</td>\n",
       "    </tr>\n",
       "    <tr>\n",
       "      <th>1</th>\n",
       "      <td>0</td>\n",
       "      <td>65000000</td>\n",
       "      <td>[{'id': 12, 'name': 'Adventure'}, {'id': 14, '...</td>\n",
       "      <td>tt0113497</td>\n",
       "      <td>en</td>\n",
       "      <td>17.015539</td>\n",
       "      <td>[{'name': 'TriStar Pictures', 'id': 559}, {'na...</td>\n",
       "      <td>[{'iso_3166_1': 'US', 'name': 'United States o...</td>\n",
       "      <td>1995-12-15</td>\n",
       "      <td>262797249</td>\n",
       "      <td>104.0</td>\n",
       "      <td>[{'iso_639_1': 'en', 'name': 'English'}, {'iso...</td>\n",
       "      <td>1</td>\n",
       "      <td>1</td>\n",
       "      <td>tt0113497</td>\n",
       "      <td>260244</td>\n",
       "      <td>6.9</td>\n",
       "      <td>tt0113497</td>\n",
       "      <td>nm0002653</td>\n",
       "      <td>nm0378144,nm0852430,nm0833164,nm0885575</td>\n",
       "    </tr>\n",
       "    <tr>\n",
       "      <th>2</th>\n",
       "      <td>0</td>\n",
       "      <td>16000000</td>\n",
       "      <td>[{'id': 35, 'name': 'Comedy'}, {'id': 18, 'nam...</td>\n",
       "      <td>tt0114885</td>\n",
       "      <td>en</td>\n",
       "      <td>3.859495</td>\n",
       "      <td>[{'name': 'Twentieth Century Fox Film Corporat...</td>\n",
       "      <td>[{'iso_3166_1': 'US', 'name': 'United States o...</td>\n",
       "      <td>1995-12-22</td>\n",
       "      <td>81452156</td>\n",
       "      <td>127.0</td>\n",
       "      <td>[{'iso_639_1': 'en', 'name': 'English'}]</td>\n",
       "      <td>3</td>\n",
       "      <td>3</td>\n",
       "      <td>tt0114885</td>\n",
       "      <td>8483</td>\n",
       "      <td>5.8</td>\n",
       "      <td>tt0114885</td>\n",
       "      <td>nm0001845</td>\n",
       "      <td>nm0573334,nm0060103</td>\n",
       "    </tr>\n",
       "    <tr>\n",
       "      <th>3</th>\n",
       "      <td>0</td>\n",
       "      <td>60000000</td>\n",
       "      <td>[{'id': 28, 'name': 'Action'}, {'id': 80, 'nam...</td>\n",
       "      <td>tt0113277</td>\n",
       "      <td>en</td>\n",
       "      <td>17.924927</td>\n",
       "      <td>[{'name': 'Regency Enterprises', 'id': 508}, {...</td>\n",
       "      <td>[{'iso_3166_1': 'US', 'name': 'United States o...</td>\n",
       "      <td>1995-12-15</td>\n",
       "      <td>187436818</td>\n",
       "      <td>170.0</td>\n",
       "      <td>[{'iso_639_1': 'en', 'name': 'English'}, {'iso...</td>\n",
       "      <td>1</td>\n",
       "      <td>1</td>\n",
       "      <td>tt0113277</td>\n",
       "      <td>508869</td>\n",
       "      <td>8.2</td>\n",
       "      <td>tt0113277</td>\n",
       "      <td>nm0000520</td>\n",
       "      <td>nm0000520</td>\n",
       "    </tr>\n",
       "    <tr>\n",
       "      <th>4</th>\n",
       "      <td>0</td>\n",
       "      <td>35000000</td>\n",
       "      <td>[{'id': 28, 'name': 'Action'}, {'id': 12, 'nam...</td>\n",
       "      <td>tt0114576</td>\n",
       "      <td>en</td>\n",
       "      <td>5.231580</td>\n",
       "      <td>[{'name': 'Universal Pictures', 'id': 33}, {'n...</td>\n",
       "      <td>[{'iso_3166_1': 'US', 'name': 'United States o...</td>\n",
       "      <td>1995-12-22</td>\n",
       "      <td>64350171</td>\n",
       "      <td>106.0</td>\n",
       "      <td>[{'iso_639_1': 'en', 'name': 'English'}]</td>\n",
       "      <td>2</td>\n",
       "      <td>2</td>\n",
       "      <td>tt0114576</td>\n",
       "      <td>29156</td>\n",
       "      <td>5.7</td>\n",
       "      <td>tt0114576</td>\n",
       "      <td>nm0001382</td>\n",
       "      <td>nm0049945,nm0704164</td>\n",
       "    </tr>\n",
       "  </tbody>\n",
       "</table>\n",
       "</div>"
      ],
      "text/plain": [
       "                               belongs_to_collection    budget  \\\n",
       "0  {'id': 10194, 'name': 'Toy Story Collection', ...  30000000   \n",
       "1                                                  0  65000000   \n",
       "2                                                  0  16000000   \n",
       "3                                                  0  60000000   \n",
       "4                                                  0  35000000   \n",
       "\n",
       "                                              genres    imdb_id  \\\n",
       "0  [{'id': 16, 'name': 'Animation'}, {'id': 35, '...  tt0114709   \n",
       "1  [{'id': 12, 'name': 'Adventure'}, {'id': 14, '...  tt0113497   \n",
       "2  [{'id': 35, 'name': 'Comedy'}, {'id': 18, 'nam...  tt0114885   \n",
       "3  [{'id': 28, 'name': 'Action'}, {'id': 80, 'nam...  tt0113277   \n",
       "4  [{'id': 28, 'name': 'Action'}, {'id': 12, 'nam...  tt0114576   \n",
       "\n",
       "  original_language  popularity  \\\n",
       "0                en   21.946943   \n",
       "1                en   17.015539   \n",
       "2                en    3.859495   \n",
       "3                en   17.924927   \n",
       "4                en    5.231580   \n",
       "\n",
       "                                production_companies  \\\n",
       "0     [{'name': 'Pixar Animation Studios', 'id': 3}]   \n",
       "1  [{'name': 'TriStar Pictures', 'id': 559}, {'na...   \n",
       "2  [{'name': 'Twentieth Century Fox Film Corporat...   \n",
       "3  [{'name': 'Regency Enterprises', 'id': 508}, {...   \n",
       "4  [{'name': 'Universal Pictures', 'id': 33}, {'n...   \n",
       "\n",
       "                                production_countries release_date    revenue  \\\n",
       "0  [{'iso_3166_1': 'US', 'name': 'United States o...   1995-10-30  373554033   \n",
       "1  [{'iso_3166_1': 'US', 'name': 'United States o...   1995-12-15  262797249   \n",
       "2  [{'iso_3166_1': 'US', 'name': 'United States o...   1995-12-22   81452156   \n",
       "3  [{'iso_3166_1': 'US', 'name': 'United States o...   1995-12-15  187436818   \n",
       "4  [{'iso_3166_1': 'US', 'name': 'United States o...   1995-12-22   64350171   \n",
       "\n",
       "   runtime                                   spoken_languages  words_in_title  \\\n",
       "0     81.0           [{'iso_639_1': 'en', 'name': 'English'}]               2   \n",
       "1    104.0  [{'iso_639_1': 'en', 'name': 'English'}, {'iso...               1   \n",
       "2    127.0           [{'iso_639_1': 'en', 'name': 'English'}]               3   \n",
       "3    170.0  [{'iso_639_1': 'en', 'name': 'English'}, {'iso...               1   \n",
       "4    106.0           [{'iso_639_1': 'en', 'name': 'English'}]               2   \n",
       "\n",
       "   words_in_original_title   tconst_x  numVotes  averageRating   tconst_y  \\\n",
       "0                        2  tt0114709    761501            8.3  tt0114709   \n",
       "1                        1  tt0113497    260244            6.9  tt0113497   \n",
       "2                        3  tt0114885      8483            5.8  tt0114885   \n",
       "3                        1  tt0113277    508869            8.2  tt0113277   \n",
       "4                        2  tt0114576     29156            5.7  tt0114576   \n",
       "\n",
       "   directors                                            writers  \n",
       "0  nm0005124  nm0005124,nm0230032,nm0004056,nm0710020,nm0923...  \n",
       "1  nm0002653            nm0378144,nm0852430,nm0833164,nm0885575  \n",
       "2  nm0001845                                nm0573334,nm0060103  \n",
       "3  nm0000520                                          nm0000520  \n",
       "4  nm0001382                                nm0049945,nm0704164  "
      ]
     },
     "execution_count": 18,
     "metadata": {},
     "output_type": "execute_result"
    }
   ],
   "source": [
    "mmt.head()"
   ]
  },
  {
   "cell_type": "code",
   "execution_count": 19,
   "metadata": {},
   "outputs": [
    {
     "name": "stdout",
     "output_type": "stream",
     "text": [
      "<class 'pandas.core.frame.DataFrame'>\n",
      "Int64Index: 5154 entries, 0 to 5153\n",
      "Data columns (total 20 columns):\n",
      "belongs_to_collection      5154 non-null object\n",
      "budget                     5154 non-null int64\n",
      "genres                     5154 non-null object\n",
      "imdb_id                    5154 non-null object\n",
      "original_language          5154 non-null object\n",
      "popularity                 5154 non-null float64\n",
      "production_companies       5154 non-null object\n",
      "production_countries       5154 non-null object\n",
      "release_date               5154 non-null object\n",
      "revenue                    5154 non-null int64\n",
      "runtime                    5154 non-null float64\n",
      "spoken_languages           5154 non-null object\n",
      "words_in_title             5154 non-null int64\n",
      "words_in_original_title    5154 non-null int64\n",
      "tconst_x                   5154 non-null object\n",
      "numVotes                   5154 non-null int64\n",
      "averageRating              5154 non-null float64\n",
      "tconst_y                   5154 non-null object\n",
      "directors                  5154 non-null object\n",
      "writers                    5154 non-null object\n",
      "dtypes: float64(3), int64(5), object(12)\n",
      "memory usage: 845.6+ KB\n"
     ]
    }
   ],
   "source": [
    "mmt.info()"
   ]
  },
  {
   "cell_type": "markdown",
   "metadata": {},
   "source": [
    "Usuwam nadmiarowe id "
   ]
  },
  {
   "cell_type": "code",
   "execution_count": 20,
   "metadata": {},
   "outputs": [],
   "source": [
    "mmt.drop(['tconst_x', 'tconst_y'], axis=1, inplace=True)"
   ]
  },
  {
   "cell_type": "code",
   "execution_count": 21,
   "metadata": {},
   "outputs": [],
   "source": [
    "mmt.to_csv('data/mmt_initial_preparation_merged.csv', index=False)"
   ]
  },
  {
   "cell_type": "code",
   "execution_count": null,
   "metadata": {},
   "outputs": [],
   "source": []
  }
 ],
 "metadata": {
  "kernelspec": {
   "display_name": "Python 3",
   "language": "python",
   "name": "python3"
  },
  "language_info": {
   "codemirror_mode": {
    "name": "ipython",
    "version": 3
   },
   "file_extension": ".py",
   "mimetype": "text/x-python",
   "name": "python",
   "nbconvert_exporter": "python",
   "pygments_lexer": "ipython3",
   "version": "3.6.5"
  }
 },
 "nbformat": 4,
 "nbformat_minor": 2
}
